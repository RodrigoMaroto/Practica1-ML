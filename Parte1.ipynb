{
 "cells": [
  {
   "cell_type": "markdown",
   "metadata": {},
   "source": [
    "# Practica 1: Predicción de la producción de energía eólica con SCIKIT-LEARN"
   ]
  },
  {
   "cell_type": "markdown",
   "metadata": {},
   "source": [
    "## Análisis exploratorio de datos (EDA)"
   ]
  },
  {
   "cell_type": "markdown",
   "metadata": {},
   "source": [
    "Cargamos el dataset"
   ]
  },
  {
   "cell_type": "code",
   "execution_count": 1,
   "metadata": {
    "id": "3IuvYn6p5NbO"
   },
   "outputs": [],
   "source": [
    "import pandas as pd\n",
    "import numpy as np"
   ]
  },
  {
   "cell_type": "code",
   "execution_count": 2,
   "metadata": {
    "id": "E_uyPvpc52mX"
   },
   "outputs": [],
   "source": [
    "wind_ava = pd.read_csv('dataset/wind_ava.csv.gz', compression=\"gzip\")"
   ]
  },
  {
   "cell_type": "markdown",
   "metadata": {},
   "source": [
    "Seleccionamos la columna \"datetime\" como indice tras convertirla a un objeto DateTime y descartamos todas las columnas que no sean \"energy\" (nuestra columna de predicción) y las variables de la localización 13 Sotavento."
   ]
  },
  {
   "cell_type": "code",
   "execution_count": 3,
   "metadata": {
    "id": "_QlM-6Jv6XTM"
   },
   "outputs": [],
   "source": [
    "wind_ava[\"datetime\"] = pd.to_datetime(wind_ava[\"datetime\"])\n",
    "wind_ava.set_index(\"datetime\", inplace=True)\n",
    "for c in wind_ava.columns:\n",
    "  if not c.endswith(\".13\") and c != \"energy\":\n",
    "    wind_ava.drop(c, axis=1, inplace=True)\n"
   ]
  },
  {
   "cell_type": "markdown",
   "metadata": {},
   "source": [
    "A continuación, mostramos los datos estadísticos de las variables restantes. Se puede observar que existen 4748 instancias y 22 características. Todas las variables son numéricas. Además podemos observar que todas las desviaciones típicas (std) son distintas de 0, por lo que ninguna columna es constante. El objetivo es predecir la cantidad de energía generada por lo que este es un problema de regresión."
   ]
  },
  {
   "cell_type": "code",
   "execution_count": 4,
   "metadata": {
    "colab": {
     "base_uri": "https://localhost:8080/",
     "height": 349
    },
    "id": "-gnqF7jE6B3j",
    "outputId": "8b6fd76b-dd6a-4160-a311-64583a03cb77"
   },
   "outputs": [
    {
     "data": {
      "text/html": [
       "<div>\n",
       "<style scoped>\n",
       "    .dataframe tbody tr th:only-of-type {\n",
       "        vertical-align: middle;\n",
       "    }\n",
       "\n",
       "    .dataframe tbody tr th {\n",
       "        vertical-align: top;\n",
       "    }\n",
       "\n",
       "    .dataframe thead th {\n",
       "        text-align: right;\n",
       "    }\n",
       "</style>\n",
       "<table border=\"1\" class=\"dataframe\">\n",
       "  <thead>\n",
       "    <tr style=\"text-align: right;\">\n",
       "      <th></th>\n",
       "      <th>energy</th>\n",
       "      <th>p54.162.13</th>\n",
       "      <th>p55.162.13</th>\n",
       "      <th>cape.13</th>\n",
       "      <th>p59.162.13</th>\n",
       "      <th>lai_lv.13</th>\n",
       "      <th>lai_hv.13</th>\n",
       "      <th>u10n.13</th>\n",
       "      <th>v10n.13</th>\n",
       "      <th>sp.13</th>\n",
       "      <th>...</th>\n",
       "      <th>t2m.13</th>\n",
       "      <th>stl2.13</th>\n",
       "      <th>stl3.13</th>\n",
       "      <th>iews.13</th>\n",
       "      <th>inss.13</th>\n",
       "      <th>stl4.13</th>\n",
       "      <th>fsr.13</th>\n",
       "      <th>flsr.13</th>\n",
       "      <th>u100.13</th>\n",
       "      <th>v100.13</th>\n",
       "    </tr>\n",
       "  </thead>\n",
       "  <tbody>\n",
       "    <tr>\n",
       "      <th>count</th>\n",
       "      <td>4748.000000</td>\n",
       "      <td>4.748000e+03</td>\n",
       "      <td>4748.000000</td>\n",
       "      <td>4748.000000</td>\n",
       "      <td>4.748000e+03</td>\n",
       "      <td>4748.000000</td>\n",
       "      <td>4748.000000</td>\n",
       "      <td>4748.000000</td>\n",
       "      <td>4748.000000</td>\n",
       "      <td>4748.000000</td>\n",
       "      <td>...</td>\n",
       "      <td>4748.000000</td>\n",
       "      <td>4748.000000</td>\n",
       "      <td>4748.000000</td>\n",
       "      <td>4748.000000</td>\n",
       "      <td>4748.000000</td>\n",
       "      <td>4748.000000</td>\n",
       "      <td>4748.000000</td>\n",
       "      <td>4748.000000</td>\n",
       "      <td>4748.000000</td>\n",
       "      <td>4748.000000</td>\n",
       "    </tr>\n",
       "    <tr>\n",
       "      <th>mean</th>\n",
       "      <td>693.126247</td>\n",
       "      <td>2.489477e+06</td>\n",
       "      <td>16.008810</td>\n",
       "      <td>31.166541</td>\n",
       "      <td>1.706692e+06</td>\n",
       "      <td>2.815222</td>\n",
       "      <td>2.576284</td>\n",
       "      <td>0.386215</td>\n",
       "      <td>0.120528</td>\n",
       "      <td>97820.301287</td>\n",
       "      <td>...</td>\n",
       "      <td>285.689253</td>\n",
       "      <td>286.663838</td>\n",
       "      <td>286.665988</td>\n",
       "      <td>0.074229</td>\n",
       "      <td>0.049971</td>\n",
       "      <td>286.668152</td>\n",
       "      <td>0.413677</td>\n",
       "      <td>-5.908467</td>\n",
       "      <td>0.447175</td>\n",
       "      <td>0.328204</td>\n",
       "    </tr>\n",
       "    <tr>\n",
       "      <th>std</th>\n",
       "      <td>665.531609</td>\n",
       "      <td>4.482599e+04</td>\n",
       "      <td>6.552216</td>\n",
       "      <td>121.758977</td>\n",
       "      <td>1.466953e+06</td>\n",
       "      <td>0.397377</td>\n",
       "      <td>0.116434</td>\n",
       "      <td>3.100583</td>\n",
       "      <td>3.016766</td>\n",
       "      <td>713.689654</td>\n",
       "      <td>...</td>\n",
       "      <td>6.163483</td>\n",
       "      <td>5.547947</td>\n",
       "      <td>4.582827</td>\n",
       "      <td>0.367013</td>\n",
       "      <td>0.379014</td>\n",
       "      <td>3.552873</td>\n",
       "      <td>0.007602</td>\n",
       "      <td>0.094359</td>\n",
       "      <td>4.841730</td>\n",
       "      <td>4.667552</td>\n",
       "    </tr>\n",
       "    <tr>\n",
       "      <th>min</th>\n",
       "      <td>0.010000</td>\n",
       "      <td>2.358748e+06</td>\n",
       "      <td>1.650268</td>\n",
       "      <td>0.000000</td>\n",
       "      <td>5.610341e+04</td>\n",
       "      <td>2.323973</td>\n",
       "      <td>2.425866</td>\n",
       "      <td>-8.619823</td>\n",
       "      <td>-8.867441</td>\n",
       "      <td>93770.364813</td>\n",
       "      <td>...</td>\n",
       "      <td>268.970603</td>\n",
       "      <td>275.461648</td>\n",
       "      <td>278.389271</td>\n",
       "      <td>-1.714897</td>\n",
       "      <td>-1.438829</td>\n",
       "      <td>280.875389</td>\n",
       "      <td>0.364805</td>\n",
       "      <td>-6.130465</td>\n",
       "      <td>-11.879053</td>\n",
       "      <td>-13.043453</td>\n",
       "    </tr>\n",
       "    <tr>\n",
       "      <th>25%</th>\n",
       "      <td>144.170000</td>\n",
       "      <td>2.458543e+06</td>\n",
       "      <td>11.203264</td>\n",
       "      <td>0.000000</td>\n",
       "      <td>6.563209e+05</td>\n",
       "      <td>2.425944</td>\n",
       "      <td>2.461630</td>\n",
       "      <td>-1.950008</td>\n",
       "      <td>-2.050920</td>\n",
       "      <td>97459.369264</td>\n",
       "      <td>...</td>\n",
       "      <td>281.458939</td>\n",
       "      <td>282.287394</td>\n",
       "      <td>282.689506</td>\n",
       "      <td>-0.126880</td>\n",
       "      <td>-0.148495</td>\n",
       "      <td>283.405549</td>\n",
       "      <td>0.410027</td>\n",
       "      <td>-5.977599</td>\n",
       "      <td>-3.836853</td>\n",
       "      <td>-3.256194</td>\n",
       "    </tr>\n",
       "    <tr>\n",
       "      <th>50%</th>\n",
       "      <td>465.305000</td>\n",
       "      <td>2.490478e+06</td>\n",
       "      <td>15.543441</td>\n",
       "      <td>1.004148</td>\n",
       "      <td>1.239176e+06</td>\n",
       "      <td>2.758857</td>\n",
       "      <td>2.560520</td>\n",
       "      <td>0.048820</td>\n",
       "      <td>-0.191853</td>\n",
       "      <td>97861.147677</td>\n",
       "      <td>...</td>\n",
       "      <td>285.395453</td>\n",
       "      <td>286.191880</td>\n",
       "      <td>286.204914</td>\n",
       "      <td>0.010551</td>\n",
       "      <td>-0.003569</td>\n",
       "      <td>286.591659</td>\n",
       "      <td>0.410917</td>\n",
       "      <td>-5.947220</td>\n",
       "      <td>0.282399</td>\n",
       "      <td>-0.389416</td>\n",
       "    </tr>\n",
       "    <tr>\n",
       "      <th>75%</th>\n",
       "      <td>1089.375000</td>\n",
       "      <td>2.525134e+06</td>\n",
       "      <td>20.214077</td>\n",
       "      <td>14.143328</td>\n",
       "      <td>2.296548e+06</td>\n",
       "      <td>3.205385</td>\n",
       "      <td>2.688526</td>\n",
       "      <td>2.641779</td>\n",
       "      <td>2.016289</td>\n",
       "      <td>98251.478418</td>\n",
       "      <td>...</td>\n",
       "      <td>289.740438</td>\n",
       "      <td>291.345311</td>\n",
       "      <td>290.989045</td>\n",
       "      <td>0.232378</td>\n",
       "      <td>0.172325</td>\n",
       "      <td>290.024705</td>\n",
       "      <td>0.417070</td>\n",
       "      <td>-5.858848</td>\n",
       "      <td>4.187953</td>\n",
       "      <td>3.614395</td>\n",
       "    </tr>\n",
       "    <tr>\n",
       "      <th>max</th>\n",
       "      <td>2792.550000</td>\n",
       "      <td>2.580387e+06</td>\n",
       "      <td>39.230807</td>\n",
       "      <td>2311.662152</td>\n",
       "      <td>1.110694e+07</td>\n",
       "      <td>3.450745</td>\n",
       "      <td>2.762992</td>\n",
       "      <td>12.974802</td>\n",
       "      <td>11.699814</td>\n",
       "      <td>99917.733093</td>\n",
       "      <td>...</td>\n",
       "      <td>305.000640</td>\n",
       "      <td>299.556292</td>\n",
       "      <td>295.639998</td>\n",
       "      <td>2.842552</td>\n",
       "      <td>2.366522</td>\n",
       "      <td>292.808658</td>\n",
       "      <td>0.428914</td>\n",
       "      <td>-5.618172</td>\n",
       "      <td>18.964137</td>\n",
       "      <td>16.913033</td>\n",
       "    </tr>\n",
       "  </tbody>\n",
       "</table>\n",
       "<p>8 rows × 23 columns</p>\n",
       "</div>"
      ],
      "text/plain": [
       "            energy    p54.162.13   p55.162.13      cape.13    p59.162.13  \\\n",
       "count  4748.000000  4.748000e+03  4748.000000  4748.000000  4.748000e+03   \n",
       "mean    693.126247  2.489477e+06    16.008810    31.166541  1.706692e+06   \n",
       "std     665.531609  4.482599e+04     6.552216   121.758977  1.466953e+06   \n",
       "min       0.010000  2.358748e+06     1.650268     0.000000  5.610341e+04   \n",
       "25%     144.170000  2.458543e+06    11.203264     0.000000  6.563209e+05   \n",
       "50%     465.305000  2.490478e+06    15.543441     1.004148  1.239176e+06   \n",
       "75%    1089.375000  2.525134e+06    20.214077    14.143328  2.296548e+06   \n",
       "max    2792.550000  2.580387e+06    39.230807  2311.662152  1.110694e+07   \n",
       "\n",
       "         lai_lv.13    lai_hv.13      u10n.13      v10n.13         sp.13  ...  \\\n",
       "count  4748.000000  4748.000000  4748.000000  4748.000000   4748.000000  ...   \n",
       "mean      2.815222     2.576284     0.386215     0.120528  97820.301287  ...   \n",
       "std       0.397377     0.116434     3.100583     3.016766    713.689654  ...   \n",
       "min       2.323973     2.425866    -8.619823    -8.867441  93770.364813  ...   \n",
       "25%       2.425944     2.461630    -1.950008    -2.050920  97459.369264  ...   \n",
       "50%       2.758857     2.560520     0.048820    -0.191853  97861.147677  ...   \n",
       "75%       3.205385     2.688526     2.641779     2.016289  98251.478418  ...   \n",
       "max       3.450745     2.762992    12.974802    11.699814  99917.733093  ...   \n",
       "\n",
       "            t2m.13      stl2.13      stl3.13      iews.13      inss.13  \\\n",
       "count  4748.000000  4748.000000  4748.000000  4748.000000  4748.000000   \n",
       "mean    285.689253   286.663838   286.665988     0.074229     0.049971   \n",
       "std       6.163483     5.547947     4.582827     0.367013     0.379014   \n",
       "min     268.970603   275.461648   278.389271    -1.714897    -1.438829   \n",
       "25%     281.458939   282.287394   282.689506    -0.126880    -0.148495   \n",
       "50%     285.395453   286.191880   286.204914     0.010551    -0.003569   \n",
       "75%     289.740438   291.345311   290.989045     0.232378     0.172325   \n",
       "max     305.000640   299.556292   295.639998     2.842552     2.366522   \n",
       "\n",
       "           stl4.13       fsr.13      flsr.13      u100.13      v100.13  \n",
       "count  4748.000000  4748.000000  4748.000000  4748.000000  4748.000000  \n",
       "mean    286.668152     0.413677    -5.908467     0.447175     0.328204  \n",
       "std       3.552873     0.007602     0.094359     4.841730     4.667552  \n",
       "min     280.875389     0.364805    -6.130465   -11.879053   -13.043453  \n",
       "25%     283.405549     0.410027    -5.977599    -3.836853    -3.256194  \n",
       "50%     286.591659     0.410917    -5.947220     0.282399    -0.389416  \n",
       "75%     290.024705     0.417070    -5.858848     4.187953     3.614395  \n",
       "max     292.808658     0.428914    -5.618172    18.964137    16.913033  \n",
       "\n",
       "[8 rows x 23 columns]"
      ]
     },
     "execution_count": 4,
     "metadata": {},
     "output_type": "execute_result"
    }
   ],
   "source": [
    "wind_ava.describe()"
   ]
  },
  {
   "cell_type": "markdown",
   "metadata": {},
   "source": [
    "Calculamos los missing values, tanto NULL como NaN, de cada columna y no existe ninguno de estos datos en todo el dataset. "
   ]
  },
  {
   "cell_type": "code",
   "execution_count": 5,
   "metadata": {
    "colab": {
     "base_uri": "https://localhost:8080/"
    },
    "id": "HlSa7KGVp-Zf",
    "outputId": "839309f7-1194-4418-8500-d04e7264f79d"
   },
   "outputs": [
    {
     "data": {
      "text/plain": [
       "energy        0\n",
       "p54.162.13    0\n",
       "p55.162.13    0\n",
       "cape.13       0\n",
       "p59.162.13    0\n",
       "lai_lv.13     0\n",
       "lai_hv.13     0\n",
       "u10n.13       0\n",
       "v10n.13       0\n",
       "sp.13         0\n",
       "stl1.13       0\n",
       "u10.13        0\n",
       "v10.13        0\n",
       "t2m.13        0\n",
       "stl2.13       0\n",
       "stl3.13       0\n",
       "iews.13       0\n",
       "inss.13       0\n",
       "stl4.13       0\n",
       "fsr.13        0\n",
       "flsr.13       0\n",
       "u100.13       0\n",
       "v100.13       0\n",
       "dtype: int64"
      ]
     },
     "execution_count": 5,
     "metadata": {},
     "output_type": "execute_result"
    }
   ],
   "source": [
    "wind_ava.isna().sum()"
   ]
  },
  {
   "cell_type": "code",
   "execution_count": 6,
   "metadata": {
    "colab": {
     "base_uri": "https://localhost:8080/"
    },
    "id": "MbQ7NHOipyrP",
    "outputId": "aa176b12-952b-4933-ef31-9ad31305527a"
   },
   "outputs": [
    {
     "data": {
      "text/plain": [
       "energy        0\n",
       "p54.162.13    0\n",
       "p55.162.13    0\n",
       "cape.13       0\n",
       "p59.162.13    0\n",
       "lai_lv.13     0\n",
       "lai_hv.13     0\n",
       "u10n.13       0\n",
       "v10n.13       0\n",
       "sp.13         0\n",
       "stl1.13       0\n",
       "u10.13        0\n",
       "v10.13        0\n",
       "t2m.13        0\n",
       "stl2.13       0\n",
       "stl3.13       0\n",
       "iews.13       0\n",
       "inss.13       0\n",
       "stl4.13       0\n",
       "fsr.13        0\n",
       "flsr.13       0\n",
       "u100.13       0\n",
       "v100.13       0\n",
       "dtype: int64"
      ]
     },
     "execution_count": 6,
     "metadata": {},
     "output_type": "execute_result"
    }
   ],
   "source": [
    "wind_ava.isnull().sum()"
   ]
  },
  {
   "cell_type": "markdown",
   "metadata": {},
   "source": [
    "## Selección de Modelo y Optimización de Hiperparámetros"
   ]
  },
  {
   "cell_type": "markdown",
   "metadata": {},
   "source": [
    "### Metodología de evaluación"
   ]
  },
  {
   "cell_type": "markdown",
   "metadata": {},
   "source": [
    "Nuestro dataset es una serie temporal por lo que la validación y medición del rendimiento debe tener esto en cuenta. Tenemos datos de 9 años, y nuestros splits serán anuales. Nuestra outer validation, usará los dos últimos años como test set y la inner usaremos TimeSeriesSplits para hacer el ajuste de hiperparámetros.\n",
    "Para la evaluación de los modelos usaremos la raíz de error cuadrático medio (RMSE), que lo haremos a traves de la función que ofrece scikit-learn llamada root_mean_squared_error.\n",
    "\n",
    "##### Los datos no son 9 años y no son continuos\n"
   ]
  },
  {
   "cell_type": "code",
   "execution_count": 7,
   "metadata": {},
   "outputs": [],
   "source": [
    "from sklearn.model_selection import train_test_split\n",
    "from sklearn.model_selection import TimeSeriesSplit\n",
    "from sklearn.metrics import root_mean_squared_error, r2_score"
   ]
  },
  {
   "cell_type": "code",
   "execution_count": 8,
   "metadata": {
    "scrolled": true
   },
   "outputs": [],
   "source": [
    "# Outer Loop\n",
    "test_size = len([0 for x in wind_ava.index if x.year >=2009])\n",
    "train, test = train_test_split(wind_ava, test_size=test_size, shuffle=False)\n",
    "X_train = train.drop(['energy'], axis='columns')\n",
    "y_train = train[['energy']]\n",
    "X_test = test.drop(['energy'], axis='columns')\n",
    "y_test = test[['energy']]\n",
    "#Inner Loop\n",
    "tss = TimeSeriesSplit(n_splits=3)"
   ]
  },
  {
   "cell_type": "code",
   "execution_count": 9,
   "metadata": {},
   "outputs": [
    {
     "name": "stdout",
     "output_type": "stream",
     "text": [
      "En la iteración 1, los índices son:\n",
      "  Train: 0 - 958\n",
      "  Val: 959 - 1914\n",
      "En la iteración 2, los índices son:\n",
      "  Train: 0 - 1914\n",
      "  Val: 1915 - 2870\n",
      "En la iteración 3, los índices son:\n",
      "  Train: 0 - 2870\n",
      "  Val: 2871 - 3826\n"
     ]
    }
   ],
   "source": [
    "for k, data in enumerate(tss.split(X_train, y_train)):\n",
    "  cv_train, cv_val = data\n",
    "  print(f\"En la iteración {k+1}, los índices son:\")\n",
    "  print(f\"  Train: {cv_train[0]} - {cv_train[-1]}\")\n",
    "  print(f\"  Val: {cv_val[0]} - {cv_val[-1]}\")"
   ]
  },
  {
   "cell_type": "markdown",
   "metadata": {},
   "source": [
    "### Selección de Scaler"
   ]
  },
  {
   "cell_type": "markdown",
   "metadata": {},
   "source": [
    "En esta sección elegiremos el mejor scaler usando KNN haciendo validación cruzada con nuestro conjunto de entrenamiento y una pequeña optimización de hiperparámetros (HPO). "
   ]
  },
  {
   "cell_type": "code",
   "execution_count": 10,
   "metadata": {},
   "outputs": [],
   "source": [
    "from sklearn.preprocessing import StandardScaler, MinMaxScaler, RobustScaler\n",
    "from sklearn.neighbors import KNeighborsRegressor\n",
    "from sklearn.pipeline import Pipeline\n",
    "from sklearn.model_selection import cross_val_score, GridSearchCV\n",
    "\n",
    "scaler_scores = {}\n",
    "param_grid = {\"knn__n_neighbors\":[3,5,7,9,11,13,15]}\n",
    "param_grid_b = {\"n_neighbors\":[3,5,7,9,11,13,15]}"
   ]
  },
  {
   "cell_type": "code",
   "execution_count": 11,
   "metadata": {},
   "outputs": [],
   "source": [
    "# Standard Scaler\n",
    "pipeline_std = Pipeline([\n",
    "    (\"scaler\", StandardScaler()),\n",
    "    (\"knn\", KNeighborsRegressor())\n",
    "])\n",
    "grid_std = GridSearchCV(pipeline_std, param_grid, cv=tss, scoring=\"neg_root_mean_squared_error\")\n",
    "grid_std.fit(X_train, y_train)\n",
    "scaler_scores[\"StandardScaler\"] = -grid_std.best_score_"
   ]
  },
  {
   "cell_type": "code",
   "execution_count": 12,
   "metadata": {},
   "outputs": [],
   "source": [
    "# MinMax Scaler\n",
    "pipeline_minmax = Pipeline([\n",
    "    (\"scaler\", MinMaxScaler()),\n",
    "    (\"knn\", KNeighborsRegressor())\n",
    "])\n",
    "grid_minmax = GridSearchCV(pipeline_minmax, param_grid, cv=tss, scoring=\"neg_root_mean_squared_error\")\n",
    "grid_minmax.fit(X_train, y_train)\n",
    "scaler_scores[\"MinMaxScaler\"] = -grid_minmax.best_score_"
   ]
  },
  {
   "cell_type": "code",
   "execution_count": 13,
   "metadata": {},
   "outputs": [],
   "source": [
    "# Robust Scaler\n",
    "pipeline_robust = Pipeline([\n",
    "    (\"scaler\", RobustScaler()),\n",
    "    (\"knn\", KNeighborsRegressor())\n",
    "])\n",
    "grid_robust = GridSearchCV(pipeline_robust, param_grid, cv=tss, scoring=\"neg_root_mean_squared_error\")\n",
    "grid_robust.fit(X_train, y_train)\n",
    "scaler_scores[\"RobustScaler\"] = -grid_robust.best_score_"
   ]
  },
  {
   "cell_type": "code",
   "execution_count": 14,
   "metadata": {},
   "outputs": [],
   "source": [
    "# No scaler\n",
    "grid_knn = GridSearchCV(KNeighborsRegressor(), param_grid_b, cv=tss, scoring=\"neg_root_mean_squared_error\")\n",
    "grid_knn.fit(X_train, y_train)\n",
    "scaler_scores[\"KNN w/o scaler\"] = -grid_knn.best_score_"
   ]
  },
  {
   "cell_type": "code",
   "execution_count": 15,
   "metadata": {},
   "outputs": [
    {
     "name": "stdout",
     "output_type": "stream",
     "text": [
      "StandardScaler: 434.8935360208871\n",
      "MinMaxScaler: 472.164886672966\n",
      "RobustScaler: 452.59145275866126\n",
      "KNN w/o scaler: 609.373666055656\n"
     ]
    }
   ],
   "source": [
    "for name, score in scaler_scores.items():\n",
    "    print(f\"{name}: {score}\")"
   ]
  },
  {
   "cell_type": "markdown",
   "metadata": {},
   "source": [
    "En estos resultados podemos observar en primer lugar, la diferencia notable que produce el escalado de datos en modelos de KNN. Además para nuestro dataset el método de escalado que mejor rendimiento ofrece es el Standard, que realiza la conocida normalización de la distribución normal que consiste en restar la media y dividir por la varianza del conjunto de entrenamiento. Este escalador es el que usaremos de aqui en adelante para los modelos que se beneficien de ello como KNN o SVM."
   ]
  },
  {
   "cell_type": "markdown",
   "metadata": {},
   "source": [
    "### Regresor dummy"
   ]
  },
  {
   "cell_type": "markdown",
   "metadata": {},
   "source": [
    "Explicacion dummy"
   ]
  },
  {
   "cell_type": "code",
   "execution_count": 16,
   "metadata": {},
   "outputs": [
    {
     "name": "stdout",
     "output_type": "stream",
     "text": [
      "RMSE: 666.7611633784188\n",
      "R2: -3.880265958544626e-06\n"
     ]
    }
   ],
   "source": [
    "from sklearn.dummy import DummyRegressor\n",
    "dummy = DummyRegressor().fit( X_train, y_train)\n",
    "prediction = dummy.predict(X_test)\n",
    "print(\"RMSE:\", root_mean_squared_error(y_test, prediction))\n",
    "print(\"R2:\", r2_score(y_test, prediction))"
   ]
  },
  {
   "cell_type": "markdown",
   "metadata": {},
   "source": [
    "### Evaluación de KNN"
   ]
  },
  {
   "cell_type": "markdown",
   "metadata": {},
   "source": [
    "En esta sección, evaluaremos un modelo basado en KNN y ajustaremos los hiperparámetros más importantes, midiendo los tiempos de entrenamiento."
   ]
  },
  {
   "cell_type": "markdown",
   "metadata": {},
   "source": [
    "Inicialmente, evaluaremos el modelo con los parámetros establecidos por defecto. Esto es:\n",
    "    - n_neighbors = 5\n",
    "    - weights='uniform'\n",
    "    - algorithm='auto'\n",
    "    - leaf_size=30\n",
    "    - p=2\n",
    "    - metric='minkowski'\n",
    "    - metric_params=None\n",
    "    - n_jobs=None"
   ]
  },
  {
   "cell_type": "code",
   "execution_count": 17,
   "metadata": {},
   "outputs": [
    {
     "name": "stdout",
     "output_type": "stream",
     "text": [
      "RMSE: 434.509641696542 R2: 0.5753218376408425 Time: 0.12599468231201172\n"
     ]
    }
   ],
   "source": [
    "import time\n",
    "data = [[]] # Usado para almacenar los resultados\n",
    "initial_time = time.time()\n",
    "\n",
    "pipe = Pipeline([\n",
    "    ('scaler', StandardScaler()), \n",
    "    ('knn', KNeighborsRegressor())]\n",
    ")\n",
    "\n",
    "pipe.fit(X_train, y_train)\n",
    "prediction = pipe.predict(X_test)\n",
    "rmse = root_mean_squared_error(y_test, prediction)\n",
    "r2 = r2_score(y_test, prediction)\n",
    "data[-1].append(\"KNN\")\n",
    "data[-1].append(rmse)\n",
    "data[-1].append(r2)\n",
    "data[-1].append(time.time()-initial_time)\n",
    "print(\"RMSE:\",rmse,\"R2:\", r2, \"Time:\", time.time()-initial_time)"
   ]
  },
  {
   "cell_type": "markdown",
   "metadata": {},
   "source": [
    "explicacion resultados y grid search"
   ]
  },
  {
   "cell_type": "code",
   "execution_count": 18,
   "metadata": {},
   "outputs": [
    {
     "name": "stdout",
     "output_type": "stream",
     "text": [
      "RMSE: 414.2416225177235 R2: 0.6140166579792947 Time: 3.288888931274414 Params: {'knn__n_neighbors': 11, 'knn__p': 1, 'knn__weights': 'distance'}\n"
     ]
    }
   ],
   "source": [
    "initial_time = time.time()\n",
    "param_grid = {\"knn__n_neighbors\":list(range(5,17,2)), \"knn__weights\":[\"uniform\", \"distance\"], \"knn__p\":[1,2]}\n",
    "pipeline_knn = Pipeline([\n",
    "    (\"scaler\", StandardScaler()),\n",
    "    (\"knn\", KNeighborsRegressor())\n",
    "])\n",
    "grid_knn = GridSearchCV(pipeline_knn, param_grid, cv=tss, scoring=\"neg_root_mean_squared_error\")\n",
    "grid_knn.fit(X_train, y_train)\n",
    "prediction = grid_knn.best_estimator_.predict(X_test)\n",
    "rmse = root_mean_squared_error(y_test, prediction)\n",
    "r2 = r2_score(y_test, prediction)\n",
    "data[-1].append(rmse)\n",
    "data[-1].append(r2)\n",
    "data[-1].append(time.time()-initial_time)\n",
    "print(\"RMSE:\",rmse,\"R2:\", r2, \"Time:\", time.time()-initial_time, \"Params:\", grid_knn.best_params_)"
   ]
  },
  {
   "cell_type": "markdown",
   "metadata": {},
   "source": [
    "### Evaluación de arboles de regresión"
   ]
  },
  {
   "cell_type": "code",
   "execution_count": 19,
   "metadata": {},
   "outputs": [
    {
     "name": "stdout",
     "output_type": "stream",
     "text": [
      "RMSE: 515.0023430301002 R2: 0.4034051451640329 Time: 0.20699858665466309\n"
     ]
    }
   ],
   "source": [
    "from sklearn.tree import DecisionTreeRegressor\n",
    "\n",
    "initial_time = time.time()\n",
    "\n",
    "dtr=DecisionTreeRegressor(random_state=454455)\n",
    "dtr.fit(X_train, y_train)\n",
    "prediction = dtr.predict(X_test)\n",
    "rmse = root_mean_squared_error(y_test, prediction)\n",
    "r2 = r2_score(y_test, prediction)\n",
    "data.append([])\n",
    "data[-1].append(\"Arbol de regresión\")\n",
    "data[-1].append(rmse)\n",
    "data[-1].append(r2)\n",
    "data[-1].append(time.time()-initial_time)\n",
    "print(\"RMSE:\",rmse,\"R2:\", r2, \"Time:\", time.time()-initial_time)"
   ]
  },
  {
   "cell_type": "code",
   "execution_count": 20,
   "metadata": {},
   "outputs": [
    {
     "name": "stdout",
     "output_type": "stream",
     "text": [
      "RMSE: 450.4297858772788 R2: 0.5436318816916665 Time: 62.60784029960632 Params: {'criterion': 'squared_error', 'max_depth': 5, 'min_samples_leaf': 3, 'min_samples_split': 45}\n"
     ]
    }
   ],
   "source": [
    "initial_time = time.time()\n",
    "param_grid = {\"criterion\":[\"squared_error\", \"absolute_error\"], \"max_depth\":list(range(3,7,2)), \"min_samples_split\":list(range(41,50,2)), \"min_samples_leaf\":list(range(1,6,2))}\n",
    "\n",
    "grid_tree = GridSearchCV(DecisionTreeRegressor(random_state=454455), param_grid, cv=tss, scoring=\"neg_root_mean_squared_error\")\n",
    "grid_tree.fit(X_train, y_train)\n",
    "prediction = grid_tree.best_estimator_.predict(X_test)\n",
    "rmse = root_mean_squared_error(y_test, prediction)\n",
    "r2 = r2_score(y_test, prediction)\n",
    "data[-1].append(rmse)\n",
    "data[-1].append(r2)\n",
    "data[-1].append(time.time()-initial_time)\n",
    "print(\"RMSE:\",rmse,\"R2:\", r2, \"Time:\", time.time()-initial_time, \"Params:\", grid_tree.best_params_)"
   ]
  },
  {
   "cell_type": "markdown",
   "metadata": {},
   "source": [
    "### Evaluación de regresión lineal"
   ]
  },
  {
   "cell_type": "code",
   "execution_count": 21,
   "metadata": {},
   "outputs": [
    {
     "name": "stdout",
     "output_type": "stream",
     "text": [
      "RMSE: 551.5411322396272 R2: 0.3157466907413353 Time: 0.037999629974365234\n"
     ]
    }
   ],
   "source": [
    "from sklearn.linear_model import LinearRegression\n",
    "\n",
    "initial_time = time.time()\n",
    "pipe = Pipeline([\n",
    "    ('scaler', StandardScaler()), \n",
    "    ('lr', LinearRegression())]\n",
    ")\n",
    "pipe.fit(X_train, y_train)\n",
    "prediction = pipe.predict(X_test)\n",
    "rmse = root_mean_squared_error(y_test, prediction)\n",
    "r2 = r2_score(y_test, prediction)\n",
    "data.append([])\n",
    "data[-1].append(\"Regresión lineal\")\n",
    "data[-1].append(rmse)\n",
    "data[-1].append(r2)\n",
    "data[-1].append(time.time()-initial_time)\n",
    "print(\"RMSE:\",rmse,\"R2:\", r2, \"Time:\", time.time()-initial_time)"
   ]
  },
  {
   "cell_type": "code",
   "execution_count": 22,
   "metadata": {},
   "outputs": [
    {
     "name": "stdout",
     "output_type": "stream",
     "text": [
      "RMSE: 551.5411322396272 R2: 0.3157466907413353 Time: 0.31764698028564453 Params: {'lr__fit_intercept': True, 'lr__positive': False}\n"
     ]
    }
   ],
   "source": [
    "initial_time = time.time()\n",
    "param_grid = {\"lr__fit_intercept\":[True, False], \"lr__positive\": [True, False]}\n",
    "grid_lr = GridSearchCV(pipe, param_grid, cv=tss, scoring=\"neg_root_mean_squared_error\")\n",
    "grid_lr.fit(X_train, y_train)\n",
    "prediction = grid_lr.best_estimator_.predict(X_test)\n",
    "rmse = root_mean_squared_error(y_test, prediction)\n",
    "r2 = r2_score(y_test, prediction)\n",
    "data[-1].append(rmse)\n",
    "data[-1].append(r2)\n",
    "data[-1].append(time.time()-initial_time)\n",
    "print(\"RMSE:\",rmse,\"R2:\", r2, \"Time:\", time.time()-initial_time, \"Params:\", grid_lr.best_params_)"
   ]
  },
  {
   "cell_type": "markdown",
   "metadata": {},
   "source": [
    "### Evaluación de regresión lineal Lasso"
   ]
  },
  {
   "cell_type": "code",
   "execution_count": 23,
   "metadata": {},
   "outputs": [
    {
     "name": "stdout",
     "output_type": "stream",
     "text": [
      "RMSE: 556.312686615394 R2: 0.3038561000354465 Time: 0.1555957794189453\n"
     ]
    }
   ],
   "source": [
    "from sklearn.linear_model import Lasso, LassoCV\n",
    "\n",
    "initial_time = time.time()\n",
    "pipe = Pipeline([\n",
    "    ('scaler', StandardScaler()), \n",
    "    ('lasso', Lasso(max_iter=10000, random_state=454455))]\n",
    ")\n",
    "\n",
    "pipe.fit(X_train, y_train)\n",
    "prediction = pipe.predict(X_test)\n",
    "rmse = root_mean_squared_error(y_test, prediction)\n",
    "r2 = r2_score(y_test, prediction)\n",
    "data.append([])\n",
    "data[-1].append(\"Regresión Lineal Lasso\")\n",
    "data[-1].append(rmse)\n",
    "data[-1].append(r2)\n",
    "data[-1].append(time.time()-initial_time)\n",
    "print(\"RMSE:\",rmse,\"R2:\", r2, \"Time:\", time.time()-initial_time)"
   ]
  },
  {
   "cell_type": "code",
   "execution_count": 24,
   "metadata": {},
   "outputs": [
    {
     "name": "stdout",
     "output_type": "stream",
     "text": [
      "RMSE: 556.8195678819071 R2: 0.3025869466817208 Time: 53.11083221435547 Params: {'lasso__alpha': 1.0826367338740546, 'lasso__fit_intercept': True}\n"
     ]
    }
   ],
   "source": [
    "initial_time = time.time()\n",
    "#print(list(np.logspace(-1, 0.5, 30)))\n",
    "\n",
    "param_grid = {\"lasso__alpha\": list(np.logspace(-1, 0.5, 30)), \"lasso__fit_intercept\": [True, False]}\n",
    "pipe = Pipeline([\n",
    "    ('scaler', StandardScaler()), \n",
    "    ('lasso', Lasso(max_iter=15000, random_state=454455))]\n",
    ")\n",
    "grid_lasso = GridSearchCV(pipe, param_grid, cv=tss, scoring=\"neg_root_mean_squared_error\")\n",
    "grid_lasso.fit(X_train, np.ravel(y_train))\n",
    "prediction = grid_lasso.best_estimator_.predict(X_test)\n",
    "rmse = root_mean_squared_error(y_test, prediction)\n",
    "r2 = r2_score(y_test, prediction)\n",
    "data[-1].append(rmse)\n",
    "data[-1].append(r2)\n",
    "data[-1].append(time.time()-initial_time)\n",
    "print(\"RMSE:\",rmse,\"R2:\", r2, \"Time:\", time.time()-initial_time, \"Params:\", grid_lasso.best_params_)"
   ]
  },
  {
   "cell_type": "markdown",
   "metadata": {},
   "source": [
    "### Evaluación de SVM"
   ]
  },
  {
   "cell_type": "code",
   "execution_count": 25,
   "metadata": {},
   "outputs": [
    {
     "name": "stdout",
     "output_type": "stream",
     "text": [
      "RMSE: 637.5113391363395 R2: 0.08580904225322772 Time: 2.0426087379455566\n"
     ]
    }
   ],
   "source": [
    "from sklearn.svm import SVR\n",
    "\n",
    "initial_time = time.time()\n",
    "pipe = Pipeline([\n",
    "    ('scaler', StandardScaler()), \n",
    "    ('svm', SVR())]\n",
    ")\n",
    "\n",
    "pipe.fit(X_train, np.ravel(y_train))\n",
    "prediction = pipe.predict(X_test)\n",
    "rmse = root_mean_squared_error(y_test, prediction)\n",
    "r2 = r2_score(y_test, prediction)\n",
    "data.append([])\n",
    "data[-1].append(\"SVM\")\n",
    "data[-1].append(rmse)\n",
    "data[-1].append(r2)\n",
    "data[-1].append(time.time()-initial_time)\n",
    "print(\"RMSE:\",rmse,\"R2:\", r2, \"Time:\", time.time()-initial_time)"
   ]
  },
  {
   "cell_type": "code",
   "execution_count": 26,
   "metadata": {},
   "outputs": [
    {
     "name": "stdout",
     "output_type": "stream",
     "text": [
      "RMSE: 422.9510859225257 R2: 0.5976153709246705 Time: 496.5190794467926 Params: {'svm__C': 805, 'svm__kernel': 'rbf'}\n"
     ]
    }
   ],
   "source": [
    "initial_time = time.time()\n",
    "param_grid = {\"svm__kernel\":[\"linear\", \"poly\", \"rbf\"],\"svm__C\": list(range(790,810,5))}\n",
    "pipe = Pipeline([\n",
    "    ('scaler', RobustScaler()), \n",
    "    ('svm', SVR())]\n",
    ")\n",
    "grid_svm = GridSearchCV(pipe, param_grid, cv=tss, scoring=\"neg_root_mean_squared_error\")\n",
    "grid_svm.fit(X_train, np.ravel(y_train))\n",
    "prediction = grid_svm.best_estimator_.predict(X_test)\n",
    "rmse = root_mean_squared_error(y_test, prediction)\n",
    "r2 = r2_score(y_test, prediction)\n",
    "data[-1].append(rmse)\n",
    "data[-1].append(r2)\n",
    "data[-1].append(time.time()-initial_time)\n",
    "print(\"RMSE:\",rmse,\"R2:\", r2, \"Time:\", time.time()-initial_time, \"Params:\", grid_svm.best_params_)"
   ]
  },
  {
   "cell_type": "markdown",
   "metadata": {},
   "source": [
    "### Resumen de resultados y conclusiones"
   ]
  },
  {
   "cell_type": "code",
   "execution_count": 27,
   "metadata": {
    "scrolled": true
   },
   "outputs": [
    {
     "name": "stdout",
     "output_type": "stream",
     "text": [
      "+------------------------+---------------------+-------------------+-------+--------------+------------+---------+\n",
      "|          Name          | Default params RMSE | Default params r2 | Time  | RMSE con HPO | r2 con HPO |  Time   |\n",
      "+------------------------+---------------------+-------------------+-------+--------------+------------+---------+\n",
      "|          KNN           |       434.51        |       0.575       | 0.126 |   414.242    |   0.614    |  3.289  |\n",
      "|   Arbol de regresión   |       515.002       |       0.403       | 0.207 |    450.43    |   0.544    | 62.608  |\n",
      "|    Regresión lineal    |       551.541       |       0.316       | 0.038 |   551.541    |   0.316    |  0.318  |\n",
      "| Regresión Lineal Lasso |       556.313       |       0.304       | 0.156 |    556.82    |   0.303    | 53.111  |\n",
      "|          SVM           |       637.511       |       0.086       | 2.043 |   422.951    |   0.598    | 496.519 |\n",
      "+------------------------+---------------------+-------------------+-------+--------------+------------+---------+\n"
     ]
    }
   ],
   "source": [
    "from tabulate import tabulate\n",
    "headers = [\"Name\", \"Default params RMSE\", \"Default params r2\", \"Time\", \"RMSE con HPO\", \"r2 con HPO\", \"Time\"]\n",
    "for i in range(len(data)):\n",
    "    for j in range(len(data[i])):\n",
    "        if j >0:\n",
    "            data[i][j] = round(data[i][j], 3)\n",
    "    \n",
    "print(tabulate(data, headers=headers, tablefmt=\"pretty\"))"
   ]
  },
  {
   "cell_type": "code",
   "execution_count": null,
   "metadata": {},
   "outputs": [],
   "source": []
  }
 ],
 "metadata": {
  "colab": {
   "provenance": []
  },
  "kernelspec": {
   "display_name": "Python 3 (ipykernel)",
   "language": "python",
   "name": "python3"
  },
  "language_info": {
   "codemirror_mode": {
    "name": "ipython",
    "version": 3
   },
   "file_extension": ".py",
   "mimetype": "text/x-python",
   "name": "python",
   "nbconvert_exporter": "python",
   "pygments_lexer": "ipython3",
   "version": "3.11.9"
  }
 },
 "nbformat": 4,
 "nbformat_minor": 4
}
