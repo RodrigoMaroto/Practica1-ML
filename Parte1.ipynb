{
 "cells": [
  {
   "cell_type": "markdown",
   "metadata": {},
   "source": [
    "# Practica 1: Predicción de la producción de energía eólica con SCIKIT-LEARN\n",
    "Autores: Rodrigo Maroto Caño y Rodrigo Toldos Frutos  \n",
    "Correos electrónicos: 100454455@alumnos.uc3m.es - 100454470@alumnos.uc3m.es   \n",
    "Usuarios en GitHub: @RodrigoMaroto (owner) y @100454470"
   ]
  },
  {
   "cell_type": "markdown",
   "metadata": {},
   "source": [
    "## Análisis exploratorio de datos (EDA)"
   ]
  },
  {
   "cell_type": "markdown",
   "metadata": {},
   "source": [
    "Cargamos el dataset"
   ]
  },
  {
   "cell_type": "code",
   "execution_count": 1,
   "metadata": {
    "id": "3IuvYn6p5NbO",
    "scrolled": true
   },
   "outputs": [],
   "source": [
    "import pandas as pd\n",
    "import numpy as np"
   ]
  },
  {
   "cell_type": "code",
   "execution_count": 2,
   "metadata": {
    "id": "E_uyPvpc52mX"
   },
   "outputs": [],
   "source": [
    "wind_ava = pd.read_csv('dataset/wind_ava.csv.gz', compression=\"gzip\")"
   ]
  },
  {
   "cell_type": "markdown",
   "metadata": {},
   "source": [
    "Seleccionamos la columna \"datetime\" como indice tras convertirla a un objeto DateTime y descartamos todas las columnas que no sean \"energy\" (nuestra columna de predicción) y las variables de la localización 13 Sotavento."
   ]
  },
  {
   "cell_type": "code",
   "execution_count": 3,
   "metadata": {
    "id": "_QlM-6Jv6XTM"
   },
   "outputs": [],
   "source": [
    "wind_ava[\"datetime\"] = pd.to_datetime(wind_ava[\"datetime\"])\n",
    "wind_ava.set_index(\"datetime\", inplace=True)\n",
    "for c in wind_ava.columns:\n",
    "  if not c.endswith(\".13\") and c != \"energy\":\n",
    "    wind_ava.drop(c, axis=1, inplace=True)\n"
   ]
  },
  {
   "cell_type": "markdown",
   "metadata": {},
   "source": [
    "A continuación, mostramos los datos estadísticos de las variables restantes. Se puede observar que existen 4748 instancias y 22 características. Todas las variables son numéricas. Además podemos observar que todas las desviaciones típicas (std) son distintas de 0, por lo que ninguna columna es constante. El objetivo es predecir la cantidad de energía generada por lo que este es un problema de regresión."
   ]
  },
  {
   "cell_type": "code",
   "execution_count": 4,
   "metadata": {
    "colab": {
     "base_uri": "https://localhost:8080/",
     "height": 349
    },
    "id": "-gnqF7jE6B3j",
    "outputId": "8b6fd76b-dd6a-4160-a311-64583a03cb77"
   },
   "outputs": [
    {
     "data": {
      "text/html": [
       "<div>\n",
       "<style scoped>\n",
       "    .dataframe tbody tr th:only-of-type {\n",
       "        vertical-align: middle;\n",
       "    }\n",
       "\n",
       "    .dataframe tbody tr th {\n",
       "        vertical-align: top;\n",
       "    }\n",
       "\n",
       "    .dataframe thead th {\n",
       "        text-align: right;\n",
       "    }\n",
       "</style>\n",
       "<table border=\"1\" class=\"dataframe\">\n",
       "  <thead>\n",
       "    <tr style=\"text-align: right;\">\n",
       "      <th></th>\n",
       "      <th>energy</th>\n",
       "      <th>p54.162.13</th>\n",
       "      <th>p55.162.13</th>\n",
       "      <th>cape.13</th>\n",
       "      <th>p59.162.13</th>\n",
       "      <th>lai_lv.13</th>\n",
       "      <th>lai_hv.13</th>\n",
       "      <th>u10n.13</th>\n",
       "      <th>v10n.13</th>\n",
       "      <th>sp.13</th>\n",
       "      <th>...</th>\n",
       "      <th>t2m.13</th>\n",
       "      <th>stl2.13</th>\n",
       "      <th>stl3.13</th>\n",
       "      <th>iews.13</th>\n",
       "      <th>inss.13</th>\n",
       "      <th>stl4.13</th>\n",
       "      <th>fsr.13</th>\n",
       "      <th>flsr.13</th>\n",
       "      <th>u100.13</th>\n",
       "      <th>v100.13</th>\n",
       "    </tr>\n",
       "  </thead>\n",
       "  <tbody>\n",
       "    <tr>\n",
       "      <th>count</th>\n",
       "      <td>4748.000000</td>\n",
       "      <td>4.748000e+03</td>\n",
       "      <td>4748.000000</td>\n",
       "      <td>4748.000000</td>\n",
       "      <td>4.748000e+03</td>\n",
       "      <td>4748.000000</td>\n",
       "      <td>4748.000000</td>\n",
       "      <td>4748.000000</td>\n",
       "      <td>4748.000000</td>\n",
       "      <td>4748.000000</td>\n",
       "      <td>...</td>\n",
       "      <td>4748.000000</td>\n",
       "      <td>4748.000000</td>\n",
       "      <td>4748.000000</td>\n",
       "      <td>4748.000000</td>\n",
       "      <td>4748.000000</td>\n",
       "      <td>4748.000000</td>\n",
       "      <td>4748.000000</td>\n",
       "      <td>4748.000000</td>\n",
       "      <td>4748.000000</td>\n",
       "      <td>4748.000000</td>\n",
       "    </tr>\n",
       "    <tr>\n",
       "      <th>mean</th>\n",
       "      <td>693.126247</td>\n",
       "      <td>2.489477e+06</td>\n",
       "      <td>16.008810</td>\n",
       "      <td>31.166541</td>\n",
       "      <td>1.706692e+06</td>\n",
       "      <td>2.815222</td>\n",
       "      <td>2.576284</td>\n",
       "      <td>0.386215</td>\n",
       "      <td>0.120528</td>\n",
       "      <td>97820.301287</td>\n",
       "      <td>...</td>\n",
       "      <td>285.689253</td>\n",
       "      <td>286.663838</td>\n",
       "      <td>286.665988</td>\n",
       "      <td>0.074229</td>\n",
       "      <td>0.049971</td>\n",
       "      <td>286.668152</td>\n",
       "      <td>0.413677</td>\n",
       "      <td>-5.908467</td>\n",
       "      <td>0.447175</td>\n",
       "      <td>0.328204</td>\n",
       "    </tr>\n",
       "    <tr>\n",
       "      <th>std</th>\n",
       "      <td>665.531609</td>\n",
       "      <td>4.482599e+04</td>\n",
       "      <td>6.552216</td>\n",
       "      <td>121.758977</td>\n",
       "      <td>1.466953e+06</td>\n",
       "      <td>0.397377</td>\n",
       "      <td>0.116434</td>\n",
       "      <td>3.100583</td>\n",
       "      <td>3.016766</td>\n",
       "      <td>713.689654</td>\n",
       "      <td>...</td>\n",
       "      <td>6.163483</td>\n",
       "      <td>5.547947</td>\n",
       "      <td>4.582827</td>\n",
       "      <td>0.367013</td>\n",
       "      <td>0.379014</td>\n",
       "      <td>3.552873</td>\n",
       "      <td>0.007602</td>\n",
       "      <td>0.094359</td>\n",
       "      <td>4.841730</td>\n",
       "      <td>4.667552</td>\n",
       "    </tr>\n",
       "    <tr>\n",
       "      <th>min</th>\n",
       "      <td>0.010000</td>\n",
       "      <td>2.358748e+06</td>\n",
       "      <td>1.650268</td>\n",
       "      <td>0.000000</td>\n",
       "      <td>5.610341e+04</td>\n",
       "      <td>2.323973</td>\n",
       "      <td>2.425866</td>\n",
       "      <td>-8.619823</td>\n",
       "      <td>-8.867441</td>\n",
       "      <td>93770.364813</td>\n",
       "      <td>...</td>\n",
       "      <td>268.970603</td>\n",
       "      <td>275.461648</td>\n",
       "      <td>278.389271</td>\n",
       "      <td>-1.714897</td>\n",
       "      <td>-1.438829</td>\n",
       "      <td>280.875389</td>\n",
       "      <td>0.364805</td>\n",
       "      <td>-6.130465</td>\n",
       "      <td>-11.879053</td>\n",
       "      <td>-13.043453</td>\n",
       "    </tr>\n",
       "    <tr>\n",
       "      <th>25%</th>\n",
       "      <td>144.170000</td>\n",
       "      <td>2.458543e+06</td>\n",
       "      <td>11.203264</td>\n",
       "      <td>0.000000</td>\n",
       "      <td>6.563209e+05</td>\n",
       "      <td>2.425944</td>\n",
       "      <td>2.461630</td>\n",
       "      <td>-1.950008</td>\n",
       "      <td>-2.050920</td>\n",
       "      <td>97459.369264</td>\n",
       "      <td>...</td>\n",
       "      <td>281.458939</td>\n",
       "      <td>282.287394</td>\n",
       "      <td>282.689506</td>\n",
       "      <td>-0.126880</td>\n",
       "      <td>-0.148495</td>\n",
       "      <td>283.405549</td>\n",
       "      <td>0.410027</td>\n",
       "      <td>-5.977599</td>\n",
       "      <td>-3.836853</td>\n",
       "      <td>-3.256194</td>\n",
       "    </tr>\n",
       "    <tr>\n",
       "      <th>50%</th>\n",
       "      <td>465.305000</td>\n",
       "      <td>2.490478e+06</td>\n",
       "      <td>15.543441</td>\n",
       "      <td>1.004148</td>\n",
       "      <td>1.239176e+06</td>\n",
       "      <td>2.758857</td>\n",
       "      <td>2.560520</td>\n",
       "      <td>0.048820</td>\n",
       "      <td>-0.191853</td>\n",
       "      <td>97861.147677</td>\n",
       "      <td>...</td>\n",
       "      <td>285.395453</td>\n",
       "      <td>286.191880</td>\n",
       "      <td>286.204914</td>\n",
       "      <td>0.010551</td>\n",
       "      <td>-0.003569</td>\n",
       "      <td>286.591659</td>\n",
       "      <td>0.410917</td>\n",
       "      <td>-5.947220</td>\n",
       "      <td>0.282399</td>\n",
       "      <td>-0.389416</td>\n",
       "    </tr>\n",
       "    <tr>\n",
       "      <th>75%</th>\n",
       "      <td>1089.375000</td>\n",
       "      <td>2.525134e+06</td>\n",
       "      <td>20.214077</td>\n",
       "      <td>14.143328</td>\n",
       "      <td>2.296548e+06</td>\n",
       "      <td>3.205385</td>\n",
       "      <td>2.688526</td>\n",
       "      <td>2.641779</td>\n",
       "      <td>2.016289</td>\n",
       "      <td>98251.478418</td>\n",
       "      <td>...</td>\n",
       "      <td>289.740438</td>\n",
       "      <td>291.345311</td>\n",
       "      <td>290.989045</td>\n",
       "      <td>0.232378</td>\n",
       "      <td>0.172325</td>\n",
       "      <td>290.024705</td>\n",
       "      <td>0.417070</td>\n",
       "      <td>-5.858848</td>\n",
       "      <td>4.187953</td>\n",
       "      <td>3.614395</td>\n",
       "    </tr>\n",
       "    <tr>\n",
       "      <th>max</th>\n",
       "      <td>2792.550000</td>\n",
       "      <td>2.580387e+06</td>\n",
       "      <td>39.230807</td>\n",
       "      <td>2311.662152</td>\n",
       "      <td>1.110694e+07</td>\n",
       "      <td>3.450745</td>\n",
       "      <td>2.762992</td>\n",
       "      <td>12.974802</td>\n",
       "      <td>11.699814</td>\n",
       "      <td>99917.733093</td>\n",
       "      <td>...</td>\n",
       "      <td>305.000640</td>\n",
       "      <td>299.556292</td>\n",
       "      <td>295.639998</td>\n",
       "      <td>2.842552</td>\n",
       "      <td>2.366522</td>\n",
       "      <td>292.808658</td>\n",
       "      <td>0.428914</td>\n",
       "      <td>-5.618172</td>\n",
       "      <td>18.964137</td>\n",
       "      <td>16.913033</td>\n",
       "    </tr>\n",
       "  </tbody>\n",
       "</table>\n",
       "<p>8 rows × 23 columns</p>\n",
       "</div>"
      ],
      "text/plain": [
       "            energy    p54.162.13   p55.162.13      cape.13    p59.162.13  \\\n",
       "count  4748.000000  4.748000e+03  4748.000000  4748.000000  4.748000e+03   \n",
       "mean    693.126247  2.489477e+06    16.008810    31.166541  1.706692e+06   \n",
       "std     665.531609  4.482599e+04     6.552216   121.758977  1.466953e+06   \n",
       "min       0.010000  2.358748e+06     1.650268     0.000000  5.610341e+04   \n",
       "25%     144.170000  2.458543e+06    11.203264     0.000000  6.563209e+05   \n",
       "50%     465.305000  2.490478e+06    15.543441     1.004148  1.239176e+06   \n",
       "75%    1089.375000  2.525134e+06    20.214077    14.143328  2.296548e+06   \n",
       "max    2792.550000  2.580387e+06    39.230807  2311.662152  1.110694e+07   \n",
       "\n",
       "         lai_lv.13    lai_hv.13      u10n.13      v10n.13         sp.13  ...  \\\n",
       "count  4748.000000  4748.000000  4748.000000  4748.000000   4748.000000  ...   \n",
       "mean      2.815222     2.576284     0.386215     0.120528  97820.301287  ...   \n",
       "std       0.397377     0.116434     3.100583     3.016766    713.689654  ...   \n",
       "min       2.323973     2.425866    -8.619823    -8.867441  93770.364813  ...   \n",
       "25%       2.425944     2.461630    -1.950008    -2.050920  97459.369264  ...   \n",
       "50%       2.758857     2.560520     0.048820    -0.191853  97861.147677  ...   \n",
       "75%       3.205385     2.688526     2.641779     2.016289  98251.478418  ...   \n",
       "max       3.450745     2.762992    12.974802    11.699814  99917.733093  ...   \n",
       "\n",
       "            t2m.13      stl2.13      stl3.13      iews.13      inss.13  \\\n",
       "count  4748.000000  4748.000000  4748.000000  4748.000000  4748.000000   \n",
       "mean    285.689253   286.663838   286.665988     0.074229     0.049971   \n",
       "std       6.163483     5.547947     4.582827     0.367013     0.379014   \n",
       "min     268.970603   275.461648   278.389271    -1.714897    -1.438829   \n",
       "25%     281.458939   282.287394   282.689506    -0.126880    -0.148495   \n",
       "50%     285.395453   286.191880   286.204914     0.010551    -0.003569   \n",
       "75%     289.740438   291.345311   290.989045     0.232378     0.172325   \n",
       "max     305.000640   299.556292   295.639998     2.842552     2.366522   \n",
       "\n",
       "           stl4.13       fsr.13      flsr.13      u100.13      v100.13  \n",
       "count  4748.000000  4748.000000  4748.000000  4748.000000  4748.000000  \n",
       "mean    286.668152     0.413677    -5.908467     0.447175     0.328204  \n",
       "std       3.552873     0.007602     0.094359     4.841730     4.667552  \n",
       "min     280.875389     0.364805    -6.130465   -11.879053   -13.043453  \n",
       "25%     283.405549     0.410027    -5.977599    -3.836853    -3.256194  \n",
       "50%     286.591659     0.410917    -5.947220     0.282399    -0.389416  \n",
       "75%     290.024705     0.417070    -5.858848     4.187953     3.614395  \n",
       "max     292.808658     0.428914    -5.618172    18.964137    16.913033  \n",
       "\n",
       "[8 rows x 23 columns]"
      ]
     },
     "execution_count": 4,
     "metadata": {},
     "output_type": "execute_result"
    }
   ],
   "source": [
    "wind_ava.describe()"
   ]
  },
  {
   "cell_type": "markdown",
   "metadata": {},
   "source": [
    "Calculamos los missing values, tanto NULL como NaN, de cada columna y no existe ninguno de estos datos en todo el dataset. "
   ]
  },
  {
   "cell_type": "code",
   "execution_count": 5,
   "metadata": {
    "colab": {
     "base_uri": "https://localhost:8080/"
    },
    "id": "HlSa7KGVp-Zf",
    "outputId": "839309f7-1194-4418-8500-d04e7264f79d"
   },
   "outputs": [
    {
     "data": {
      "text/plain": [
       "energy        0\n",
       "p54.162.13    0\n",
       "p55.162.13    0\n",
       "cape.13       0\n",
       "p59.162.13    0\n",
       "lai_lv.13     0\n",
       "lai_hv.13     0\n",
       "u10n.13       0\n",
       "v10n.13       0\n",
       "sp.13         0\n",
       "stl1.13       0\n",
       "u10.13        0\n",
       "v10.13        0\n",
       "t2m.13        0\n",
       "stl2.13       0\n",
       "stl3.13       0\n",
       "iews.13       0\n",
       "inss.13       0\n",
       "stl4.13       0\n",
       "fsr.13        0\n",
       "flsr.13       0\n",
       "u100.13       0\n",
       "v100.13       0\n",
       "dtype: int64"
      ]
     },
     "execution_count": 5,
     "metadata": {},
     "output_type": "execute_result"
    }
   ],
   "source": [
    "wind_ava.isna().sum()"
   ]
  },
  {
   "cell_type": "code",
   "execution_count": 6,
   "metadata": {
    "colab": {
     "base_uri": "https://localhost:8080/"
    },
    "id": "MbQ7NHOipyrP",
    "outputId": "aa176b12-952b-4933-ef31-9ad31305527a"
   },
   "outputs": [
    {
     "data": {
      "text/plain": [
       "energy        0\n",
       "p54.162.13    0\n",
       "p55.162.13    0\n",
       "cape.13       0\n",
       "p59.162.13    0\n",
       "lai_lv.13     0\n",
       "lai_hv.13     0\n",
       "u10n.13       0\n",
       "v10n.13       0\n",
       "sp.13         0\n",
       "stl1.13       0\n",
       "u10.13        0\n",
       "v10.13        0\n",
       "t2m.13        0\n",
       "stl2.13       0\n",
       "stl3.13       0\n",
       "iews.13       0\n",
       "inss.13       0\n",
       "stl4.13       0\n",
       "fsr.13        0\n",
       "flsr.13       0\n",
       "u100.13       0\n",
       "v100.13       0\n",
       "dtype: int64"
      ]
     },
     "execution_count": 6,
     "metadata": {},
     "output_type": "execute_result"
    }
   ],
   "source": [
    "wind_ava.isnull().sum()"
   ]
  },
  {
   "cell_type": "markdown",
   "metadata": {},
   "source": [
    "## Selección de Modelo y Optimización de Hiperparámetros"
   ]
  },
  {
   "cell_type": "markdown",
   "metadata": {},
   "source": [
    "### Metodología de evaluación"
   ]
  },
  {
   "cell_type": "markdown",
   "metadata": {},
   "source": [
    "Nuestro dataset es una serie temporal por lo que la validación y medición del rendimiento debe tener esto en cuenta. Nuestra outer validation usará los datos del último año, 2009, como test set y para la inner usaremos TimeSeriesSplits para generar los 3 folds para hacer el ajuste de hiperparámetros con validación cruzada.   \n",
    "Para la evaluación de los modelos usaremos la raíz de error cuadrático medio (RMSE), que lo haremos a traves de la función que ofrece scikit-learn llamada root_mean_squared_error. Además, de manera informativa también calcularemos el r2 para obtener otra medida de rendimiento agnóstica al problema.\n"
   ]
  },
  {
   "cell_type": "code",
   "execution_count": 7,
   "metadata": {},
   "outputs": [],
   "source": [
    "from sklearn.model_selection import train_test_split\n",
    "from sklearn.model_selection import TimeSeriesSplit\n",
    "from sklearn.metrics import root_mean_squared_error, r2_score"
   ]
  },
  {
   "cell_type": "code",
   "execution_count": 8,
   "metadata": {
    "scrolled": true
   },
   "outputs": [],
   "source": [
    "# Outer Loop\n",
    "test_size = len([0 for x in wind_ava.index if x.year >=2009])\n",
    "train, test = train_test_split(wind_ava, test_size=test_size, shuffle=False)\n",
    "X_train = train.drop(['energy'], axis='columns')\n",
    "y_train = train[['energy']]\n",
    "X_test = test.drop(['energy'], axis='columns')\n",
    "y_test = test[['energy']]\n",
    "#Inner Loop\n",
    "tss = TimeSeriesSplit(n_splits=3)"
   ]
  },
  {
   "cell_type": "code",
   "execution_count": 9,
   "metadata": {},
   "outputs": [
    {
     "name": "stdout",
     "output_type": "stream",
     "text": [
      "En la iteración 1, los índices son:\n",
      "  Train: 0 - 958\n",
      "  Val: 959 - 1914\n",
      "En la iteración 2, los índices son:\n",
      "  Train: 0 - 1914\n",
      "  Val: 1915 - 2870\n",
      "En la iteración 3, los índices son:\n",
      "  Train: 0 - 2870\n",
      "  Val: 2871 - 3826\n"
     ]
    }
   ],
   "source": [
    "for k, data in enumerate(tss.split(X_train, y_train)):\n",
    "  cv_train, cv_val = data\n",
    "  print(f\"En la iteración {k+1}, los índices son:\")\n",
    "  print(f\"  Train: {cv_train[0]} - {cv_train[-1]}\")\n",
    "  print(f\"  Val: {cv_val[0]} - {cv_val[-1]}\")"
   ]
  },
  {
   "cell_type": "markdown",
   "metadata": {},
   "source": [
    "### Selección de Scaler"
   ]
  },
  {
   "cell_type": "markdown",
   "metadata": {},
   "source": [
    "En esta sección elegiremos el mejor scaler usando KNN haciendo validación cruzada con nuestro conjunto de entrenamiento y una pequeña optimización de hiperparámetros (HPO). "
   ]
  },
  {
   "cell_type": "code",
   "execution_count": 10,
   "metadata": {},
   "outputs": [],
   "source": [
    "from sklearn.preprocessing import StandardScaler, MinMaxScaler, RobustScaler\n",
    "from sklearn.neighbors import KNeighborsRegressor\n",
    "from sklearn.pipeline import Pipeline\n",
    "from sklearn.model_selection import cross_val_score, GridSearchCV\n",
    "\n",
    "scaler_scores = {}\n",
    "param_grid = {\"knn__n_neighbors\":[3,5,7,9,11,13,15]}\n",
    "param_grid_b = {\"n_neighbors\":[3,5,7,9,11,13,15]}"
   ]
  },
  {
   "cell_type": "code",
   "execution_count": 11,
   "metadata": {},
   "outputs": [],
   "source": [
    "# Standard Scaler\n",
    "pipeline_std = Pipeline([\n",
    "    (\"scaler\", StandardScaler()),\n",
    "    (\"knn\", KNeighborsRegressor())\n",
    "])\n",
    "grid_std = GridSearchCV(pipeline_std, param_grid, cv=tss, scoring=\"neg_root_mean_squared_error\")\n",
    "grid_std.fit(X_train, y_train)\n",
    "scaler_scores[\"StandardScaler\"] = -grid_std.best_score_"
   ]
  },
  {
   "cell_type": "code",
   "execution_count": 12,
   "metadata": {},
   "outputs": [],
   "source": [
    "# MinMax Scaler\n",
    "pipeline_minmax = Pipeline([\n",
    "    (\"scaler\", MinMaxScaler()),\n",
    "    (\"knn\", KNeighborsRegressor())\n",
    "])\n",
    "grid_minmax = GridSearchCV(pipeline_minmax, param_grid, cv=tss, scoring=\"neg_root_mean_squared_error\")\n",
    "grid_minmax.fit(X_train, y_train)\n",
    "scaler_scores[\"MinMaxScaler\"] = -grid_minmax.best_score_"
   ]
  },
  {
   "cell_type": "code",
   "execution_count": 13,
   "metadata": {},
   "outputs": [],
   "source": [
    "# Robust Scaler\n",
    "pipeline_robust = Pipeline([\n",
    "    (\"scaler\", RobustScaler()),\n",
    "    (\"knn\", KNeighborsRegressor())\n",
    "])\n",
    "grid_robust = GridSearchCV(pipeline_robust, param_grid, cv=tss, scoring=\"neg_root_mean_squared_error\")\n",
    "grid_robust.fit(X_train, y_train)\n",
    "scaler_scores[\"RobustScaler\"] = -grid_robust.best_score_"
   ]
  },
  {
   "cell_type": "code",
   "execution_count": 14,
   "metadata": {},
   "outputs": [],
   "source": [
    "# No scaler\n",
    "grid_knn = GridSearchCV(KNeighborsRegressor(), param_grid_b, cv=tss, scoring=\"neg_root_mean_squared_error\")\n",
    "grid_knn.fit(X_train, y_train)\n",
    "scaler_scores[\"KNN w/o scaler\"] = -grid_knn.best_score_"
   ]
  },
  {
   "cell_type": "code",
   "execution_count": 15,
   "metadata": {},
   "outputs": [
    {
     "name": "stdout",
     "output_type": "stream",
     "text": [
      "StandardScaler: 434.8935360208871\n",
      "MinMaxScaler: 472.164886672966\n",
      "RobustScaler: 452.59145275866126\n",
      "KNN w/o scaler: 609.373666055656\n"
     ]
    }
   ],
   "source": [
    "for name, score in scaler_scores.items():\n",
    "    print(f\"{name}: {score}\")"
   ]
  },
  {
   "cell_type": "markdown",
   "metadata": {},
   "source": [
    "En estos resultados podemos observar en primer lugar, la diferencia notable que produce el escalado de datos en modelos de KNN. Además para nuestro dataset el método de escalado que mejor rendimiento ofrece es el Standard, que realiza la conocida normalización de la distribución normal que consiste en restar la media y dividir por la varianza del conjunto de entrenamiento. Este escalador es el que usaremos de aqui en adelante para los modelos que se beneficien de ello como KNN o SVM."
   ]
  },
  {
   "cell_type": "markdown",
   "metadata": {},
   "source": [
    "### Regresor dummy"
   ]
  },
  {
   "cell_type": "markdown",
   "metadata": {},
   "source": [
    "En esta sección podremos ver las métricas (RMSE y R²) asociadas a un modelo de regresión trivial (dummy regressor), para posteriormente poder comparar los resultados de nuestros modelos con los de este dummy regressor y ver si realmente son buenos o no."
   ]
  },
  {
   "cell_type": "code",
   "execution_count": 16,
   "metadata": {},
   "outputs": [
    {
     "name": "stdout",
     "output_type": "stream",
     "text": [
      "RMSE: 666.7611633784188\n",
      "R2: -3.880265958544626e-06\n"
     ]
    }
   ],
   "source": [
    "from sklearn.dummy import DummyRegressor\n",
    "dummy = DummyRegressor().fit( X_train, y_train)\n",
    "prediction = dummy.predict(X_test)\n",
    "print(\"RMSE:\", root_mean_squared_error(y_test, prediction))\n",
    "print(\"R2:\", r2_score(y_test, prediction))"
   ]
  },
  {
   "cell_type": "markdown",
   "metadata": {},
   "source": [
    "### Evaluación de KNN"
   ]
  },
  {
   "cell_type": "markdown",
   "metadata": {},
   "source": [
    "En esta sección, evaluaremos un modelo basado en KNN y ajustaremos los hiperparámetros más importantes, midiendo los tiempos de entrenamiento."
   ]
  },
  {
   "cell_type": "markdown",
   "metadata": {},
   "source": [
    "Inicialmente, evaluaremos el modelo con los parámetros establecidos por defecto. Esto es:\n",
    "    - n_neighbors = 5\n",
    "    - weights='uniform'\n",
    "    - algorithm='auto'\n",
    "    - leaf_size=30\n",
    "    - p=2\n",
    "    - metric='minkowski'\n",
    "    - metric_params=None\n",
    "    - n_jobs=None"
   ]
  },
  {
   "cell_type": "code",
   "execution_count": 17,
   "metadata": {},
   "outputs": [
    {
     "name": "stdout",
     "output_type": "stream",
     "text": [
      "RMSE: 449.4882966238144 R2: 0.5592102016107713 Time: 0.20499777793884277\n"
     ]
    }
   ],
   "source": [
    "import time\n",
    "data = [[]] # Usado para almacenar los resultados\n",
    "scoring_list = [\"neg_root_mean_squared_error\",\"r2\"]\n",
    "initial_time = time.time()\n",
    "\n",
    "pipe = Pipeline([\n",
    "    ('scaler', StandardScaler()), \n",
    "    ('knn', KNeighborsRegressor())]\n",
    ")\n",
    "\n",
    "rmse = -cross_val_score(pipe, X_train, y_train, cv=tss, scoring=\"neg_root_mean_squared_error\").mean()\n",
    "r2 = cross_val_score(pipe, X_train, y_train, cv=tss, scoring=\"r2\").mean()\n",
    "data[-1].append(\"KNN\")\n",
    "data[-1].append(rmse)\n",
    "data[-1].append(r2)\n",
    "data[-1].append(time.time()-initial_time)\n",
    "print(\"RMSE:\",rmse,\"R2:\", r2, \"Time:\", time.time()-initial_time)"
   ]
  },
  {
   "cell_type": "markdown",
   "metadata": {},
   "source": [
    "A continuación, probamos a buscar hiperparámetros óptimos para este modelo de regresión basada en KNN. Probaremos los siguientes parámetros:\n",
    "n_neighbors (probaremos con 5, 7, 9, 11, 13, 15, 17), weights (probaremos con \"uniform\" y \"distance\") y p (probaremos con 1 y 2). Para ello, utilizamos un GridSearchCV utilizando el TimeSeriesSplit creado anteriormente. "
   ]
  },
  {
   "cell_type": "code",
   "execution_count": 18,
   "metadata": {},
   "outputs": [
    {
     "name": "stdout",
     "output_type": "stream",
     "text": [
      "RMSE: 424.5590291743106 R2: 0.6083772037567944 Time: 1.9399971961975098 Params: {'knn__n_neighbors': 11, 'knn__p': 1, 'knn__weights': 'distance'}\n"
     ]
    }
   ],
   "source": [
    "initial_time = time.time()\n",
    "param_grid = {\"knn__n_neighbors\":list(range(5,17,2)), \"knn__weights\":[\"uniform\", \"distance\"], \"knn__p\":[1,2]}\n",
    "pipeline_knn = Pipeline([\n",
    "    (\"scaler\", StandardScaler()),\n",
    "    (\"knn\", KNeighborsRegressor())\n",
    "])\n",
    "grid_knn = GridSearchCV(pipeline_knn, param_grid, cv=tss, scoring=\"neg_root_mean_squared_error\")\n",
    "grid_knn.fit(X_train, y_train)\n",
    "rmse = -grid_knn.best_score_\n",
    "r2 = cross_val_score(grid_knn.best_estimator_, X_train, y_train, cv=tss, scoring=\"r2\").mean()\n",
    "data[-1].append(rmse)\n",
    "data[-1].append(r2)\n",
    "data[-1].append(time.time()-initial_time)\n",
    "print(\"RMSE:\",rmse,\"R2:\", r2, \"Time:\", time.time()-initial_time, \"Params:\", grid_knn.best_params_)"
   ]
  },
  {
   "cell_type": "markdown",
   "metadata": {},
   "source": [
    "### Evaluación de arboles de regresión"
   ]
  },
  {
   "cell_type": "markdown",
   "metadata": {},
   "source": [
    "Ahora probaremos un modelo basado en un árbol de regresión. Inicialmente haremos la prueba con los valores predeterminados y posteriormente, en la optimización de hiperparámetros, probaremos con los siguientes hiperparámetros: criterion, max_depth, min_samples_split y min_samples_leaf."
   ]
  },
  {
   "cell_type": "code",
   "execution_count": 19,
   "metadata": {},
   "outputs": [
    {
     "name": "stdout",
     "output_type": "stream",
     "text": [
      "RMSE: 533.0490891800928 R2: 0.38279628928168236 Time: 0.44299888610839844\n"
     ]
    }
   ],
   "source": [
    "from sklearn.tree import DecisionTreeRegressor\n",
    "\n",
    "initial_time = time.time()\n",
    "\n",
    "dtr = DecisionTreeRegressor(random_state=454455)\n",
    "rmse = -cross_val_score(dtr, X_train, y_train, cv=tss, scoring=\"neg_root_mean_squared_error\").mean()\n",
    "r2 = cross_val_score(dtr, X_train, y_train, cv=tss, scoring=\"r2\").mean()\n",
    "data.append([])\n",
    "data[-1].append(\"Arbol de regresión\")\n",
    "data[-1].append(rmse)\n",
    "data[-1].append(r2)\n",
    "data[-1].append(time.time()-initial_time)\n",
    "print(\"RMSE:\",rmse,\"R2:\", r2, \"Time:\", time.time()-initial_time)"
   ]
  },
  {
   "cell_type": "code",
   "execution_count": 20,
   "metadata": {},
   "outputs": [
    {
     "name": "stdout",
     "output_type": "stream",
     "text": [
      "RMSE: 426.67567717774836 R2: 0.6032400563658257 Time: 51.09900164604187 Params: {'criterion': 'squared_error', 'max_depth': 5, 'min_samples_leaf': 3, 'min_samples_split': 45}\n"
     ]
    }
   ],
   "source": [
    "initial_time = time.time()\n",
    "param_grid = {\"criterion\":[\"squared_error\", \"absolute_error\"], \"max_depth\":list(range(3,7,2)), \"min_samples_split\":list(range(41,50,2)), \"min_samples_leaf\":list(range(1,6,2))}\n",
    "\n",
    "grid_tree = GridSearchCV(DecisionTreeRegressor(random_state=454455), param_grid, cv=tss, scoring=\"neg_root_mean_squared_error\")\n",
    "grid_tree.fit(X_train, y_train)\n",
    "rmse = -grid_tree.best_score_\n",
    "r2 = cross_val_score(grid_tree.best_estimator_, X_train, y_train, cv=tss, scoring=\"r2\").mean()\n",
    "data[-1].append(rmse)\n",
    "data[-1].append(r2)\n",
    "data[-1].append(time.time()-initial_time)\n",
    "print(\"RMSE:\",rmse,\"R2:\", r2, \"Time:\", time.time()-initial_time, \"Params:\", grid_tree.best_params_)"
   ]
  },
  {
   "cell_type": "markdown",
   "metadata": {},
   "source": [
    "### Evaluación de regresión lineal"
   ]
  },
  {
   "cell_type": "markdown",
   "metadata": {},
   "source": [
    "Igual que en los otros casos, primero haremos la evaluación del modelo de regresión lineal con sus hiperparámetros predeterminados y posteriormente probaremos con la optimización de éstos. Para ello, haremos el GridSearchCV con los hiperparámetros fit_intercept y positive. "
   ]
  },
  {
   "cell_type": "code",
   "execution_count": 21,
   "metadata": {},
   "outputs": [
    {
     "name": "stdout",
     "output_type": "stream",
     "text": [
      "RMSE: 573.8068591005823 R2: 0.28724890003828796 Time: 0.08899855613708496\n"
     ]
    }
   ],
   "source": [
    "from sklearn.linear_model import LinearRegression\n",
    "\n",
    "initial_time = time.time()\n",
    "pipe = Pipeline([\n",
    "    ('scaler', StandardScaler()), \n",
    "    ('lr', LinearRegression())]\n",
    ")\n",
    "rmse = -cross_val_score(pipe, X_train, y_train, cv=tss, scoring=\"neg_root_mean_squared_error\").mean()\n",
    "r2 = cross_val_score(pipe, X_train, y_train, cv=tss, scoring=\"r2\").mean()\n",
    "data.append([])\n",
    "data[-1].append(\"Regresión lineal\")\n",
    "data[-1].append(rmse)\n",
    "data[-1].append(r2)\n",
    "data[-1].append(time.time()-initial_time)\n",
    "print(\"RMSE:\",rmse,\"R2:\", r2, \"Time:\", time.time()-initial_time)"
   ]
  },
  {
   "cell_type": "code",
   "execution_count": 22,
   "metadata": {},
   "outputs": [
    {
     "name": "stdout",
     "output_type": "stream",
     "text": [
      "RMSE: 573.8068591005823 R2: 0.28724890003828796 Time: 0.3710010051727295 Params: {'lr__fit_intercept': True, 'lr__positive': False}\n"
     ]
    }
   ],
   "source": [
    "initial_time = time.time()\n",
    "param_grid = {\"lr__fit_intercept\":[True, False], \"lr__positive\": [True, False]}\n",
    "grid_lr = GridSearchCV(pipe, param_grid, cv=tss, scoring=\"neg_root_mean_squared_error\")\n",
    "grid_lr.fit(X_train, y_train)\n",
    "rmse = -grid_lr.best_score_\n",
    "r2 = cross_val_score(grid_lr.best_estimator_, X_train, y_train, cv=tss, scoring=\"r2\").mean()\n",
    "data[-1].append(rmse)\n",
    "data[-1].append(r2)\n",
    "data[-1].append(time.time()-initial_time)\n",
    "print(\"RMSE:\",rmse,\"R2:\", r2, \"Time:\", time.time()-initial_time, \"Params:\", grid_lr.best_params_)"
   ]
  },
  {
   "cell_type": "markdown",
   "metadata": {},
   "source": [
    "### Evaluación de regresión lineal Lasso"
   ]
  },
  {
   "cell_type": "markdown",
   "metadata": {},
   "source": [
    "Ahora evaluaremos un modelo con la variación Lasso para la regresión lineal. Los hiperparámetros que optimizaremos son alph y fit_intercept. Por otro lado, para este modelo será necesario establecer un número máximo de iteraciones que hemos fijado en 10000 para evitar problemas en el notebook."
   ]
  },
  {
   "cell_type": "code",
   "execution_count": 23,
   "metadata": {},
   "outputs": [
    {
     "name": "stdout",
     "output_type": "stream",
     "text": [
      "RMSE: 566.2757058941405 R2: 0.3049886546753497 Time: 0.44499850273132324\n"
     ]
    }
   ],
   "source": [
    "from sklearn.linear_model import Lasso, LassoCV\n",
    "\n",
    "initial_time = time.time()\n",
    "pipe = Pipeline([\n",
    "    ('scaler', StandardScaler()), \n",
    "    ('lasso', Lasso(max_iter=10000, random_state=454455))]\n",
    ")\n",
    "\n",
    "rmse = -cross_val_score(pipe, X_train, y_train, cv=tss, scoring=\"neg_root_mean_squared_error\").mean()\n",
    "r2 = cross_val_score(pipe, X_train, y_train, cv=tss, scoring=\"r2\").mean()\n",
    "data.append([])\n",
    "data[-1].append(\"Regresión Lineal Lasso\")\n",
    "data[-1].append(rmse)\n",
    "data[-1].append(r2)\n",
    "data[-1].append(time.time()-initial_time)\n",
    "print(\"RMSE:\",rmse,\"R2:\", r2, \"Time:\", time.time()-initial_time)"
   ]
  },
  {
   "cell_type": "code",
   "execution_count": 24,
   "metadata": {},
   "outputs": [
    {
     "name": "stdout",
     "output_type": "stream",
     "text": [
      "RMSE: 566.2519699464789 R2: 0.30501539308289843 Time: 29.888975143432617 Params: {'lasso__alpha': 1.0826367338740546, 'lasso__fit_intercept': True}\n"
     ]
    }
   ],
   "source": [
    "initial_time = time.time()\n",
    "#print(list(np.logspace(-1, 0.5, 30)))\n",
    "\n",
    "param_grid = {\"lasso__alpha\": list(np.logspace(-1, 0.5, 30)), \"lasso__fit_intercept\": [True, False]}\n",
    "pipe = Pipeline([\n",
    "    ('scaler', StandardScaler()), \n",
    "    ('lasso', Lasso(max_iter=15000, random_state=454455))]\n",
    ")\n",
    "grid_lasso = GridSearchCV(pipe, param_grid, cv=tss, scoring=\"neg_root_mean_squared_error\")\n",
    "grid_lasso.fit(X_train, np.ravel(y_train))\n",
    "rmse = -grid_lasso.best_score_\n",
    "r2 = cross_val_score(grid_lasso.best_estimator_, X_train, y_train, cv=tss, scoring=\"r2\").mean()\n",
    "data[-1].append(rmse)\n",
    "data[-1].append(r2)\n",
    "data[-1].append(time.time()-initial_time)\n",
    "print(\"RMSE:\",rmse,\"R2:\", r2, \"Time:\", time.time()-initial_time, \"Params:\", grid_lasso.best_params_)"
   ]
  },
  {
   "cell_type": "markdown",
   "metadata": {},
   "source": [
    "### Evaluación de SVM"
   ]
  },
  {
   "cell_type": "markdown",
   "metadata": {},
   "source": [
    "Dado que es un problema, vamos a optimizar los siguientes hiperparámetros: kernel, C, epsilon, gamma"
   ]
  },
  {
   "cell_type": "code",
   "execution_count": 25,
   "metadata": {},
   "outputs": [
    {
     "name": "stdout",
     "output_type": "stream",
     "text": [
      "RMSE: 688.2117165064425 R2: -0.023585902347566152 Time: 3.1009979248046875\n"
     ]
    }
   ],
   "source": [
    "from sklearn.svm import SVR\n",
    "\n",
    "initial_time = time.time()\n",
    "pipe = Pipeline([\n",
    "    ('scaler', StandardScaler()), \n",
    "    ('svm', SVR())]\n",
    ")\n",
    "\n",
    "rmse = -cross_val_score(pipe, X_train, np.ravel(y_train), cv=tss, scoring=\"neg_root_mean_squared_error\").mean()\n",
    "r2 = cross_val_score(pipe, X_train, np.ravel(y_train), cv=tss, scoring=\"r2\").mean()\n",
    "data.append([])\n",
    "data[-1].append(\"SVM\")\n",
    "data[-1].append(rmse)\n",
    "data[-1].append(r2)\n",
    "data[-1].append(time.time()-initial_time)\n",
    "print(\"RMSE:\",rmse,\"R2:\", r2, \"Time:\", time.time()-initial_time)"
   ]
  },
  {
   "cell_type": "code",
   "execution_count": 26,
   "metadata": {},
   "outputs": [
    {
     "name": "stdout",
     "output_type": "stream",
     "text": [
      "RMSE: 397.0696148849627 R2: 0.6570609181980098 Time: 74.55903935432434 Params: {'svm__C': 900, 'svm__epsilon': 2.25, 'svm__kernel': 'rbf'}\n"
     ]
    }
   ],
   "source": [
    "initial_time = time.time()\n",
    "param_grid = {\"svm__kernel\":[\"rbf\", \"linear\"],\"svm__C\": list(range(800,950,50)),\"svm__epsilon\": np.linspace(2,2.5,5)}\n",
    "pipe = Pipeline([\n",
    "    ('scaler', StandardScaler()), \n",
    "    ('svm', SVR())]\n",
    ")\n",
    "grid_svm = GridSearchCV(pipe, param_grid, cv=tss, scoring=\"neg_root_mean_squared_error\")\n",
    "grid_svm.fit(X_train, np.ravel(y_train))\n",
    "rmse = -grid_svm.best_score_\n",
    "r2 = cross_val_score(grid_svm.best_estimator_, X_train, np.ravel(y_train), cv=tss, scoring=\"r2\").mean()\n",
    "data[-1].append(rmse)\n",
    "data[-1].append(r2)\n",
    "data[-1].append(time.time()-initial_time)\n",
    "print(\"RMSE:\",rmse,\"R2:\", r2, \"Time:\", time.time()-initial_time, \"Params:\", grid_svm.best_params_)"
   ]
  },
  {
   "cell_type": "markdown",
   "metadata": {},
   "source": [
    "### Resumen de resultados y conclusiones"
   ]
  },
  {
   "cell_type": "code",
   "execution_count": 27,
   "metadata": {
    "scrolled": true
   },
   "outputs": [
    {
     "data": {
      "text/html": [
       "<style type=\"text/css\">\n",
       "</style>\n",
       "<table id=\"T_c7f30\">\n",
       "  <thead>\n",
       "    <tr>\n",
       "      <th id=\"T_c7f30_level0_col0\" class=\"col_heading level0 col0\" >Name</th>\n",
       "      <th id=\"T_c7f30_level0_col1\" class=\"col_heading level0 col1\" >Default params RMSE</th>\n",
       "      <th id=\"T_c7f30_level0_col2\" class=\"col_heading level0 col2\" >Default params r2</th>\n",
       "      <th id=\"T_c7f30_level0_col3\" class=\"col_heading level0 col3\" >Time</th>\n",
       "      <th id=\"T_c7f30_level0_col4\" class=\"col_heading level0 col4\" >RMSE con HPO</th>\n",
       "      <th id=\"T_c7f30_level0_col5\" class=\"col_heading level0 col5\" >r2 con HPO</th>\n",
       "      <th id=\"T_c7f30_level0_col6\" class=\"col_heading level0 col6\" >Time</th>\n",
       "      <th id=\"T_c7f30_level0_col7\" class=\"col_heading level0 col7\" >Mejora (%)</th>\n",
       "    </tr>\n",
       "  </thead>\n",
       "  <tbody>\n",
       "    <tr>\n",
       "      <td id=\"T_c7f30_row0_col0\" class=\"data row0 col0\" >KNN</td>\n",
       "      <td id=\"T_c7f30_row0_col1\" class=\"data row0 col1\" >449.488000</td>\n",
       "      <td id=\"T_c7f30_row0_col2\" class=\"data row0 col2\" >0.559000</td>\n",
       "      <td id=\"T_c7f30_row0_col3\" class=\"data row0 col3\" >0.205000</td>\n",
       "      <td id=\"T_c7f30_row0_col4\" class=\"data row0 col4\" >424.559000</td>\n",
       "      <td id=\"T_c7f30_row0_col5\" class=\"data row0 col5\" >0.608000</td>\n",
       "      <td id=\"T_c7f30_row0_col6\" class=\"data row0 col6\" >1.940000</td>\n",
       "      <td id=\"T_c7f30_row0_col7\" class=\"data row0 col7\" >5.872000</td>\n",
       "    </tr>\n",
       "    <tr>\n",
       "      <td id=\"T_c7f30_row1_col0\" class=\"data row1 col0\" >Arbol de regresión</td>\n",
       "      <td id=\"T_c7f30_row1_col1\" class=\"data row1 col1\" >533.049000</td>\n",
       "      <td id=\"T_c7f30_row1_col2\" class=\"data row1 col2\" >0.383000</td>\n",
       "      <td id=\"T_c7f30_row1_col3\" class=\"data row1 col3\" >0.443000</td>\n",
       "      <td id=\"T_c7f30_row1_col4\" class=\"data row1 col4\" >426.676000</td>\n",
       "      <td id=\"T_c7f30_row1_col5\" class=\"data row1 col5\" >0.603000</td>\n",
       "      <td id=\"T_c7f30_row1_col6\" class=\"data row1 col6\" >51.099000</td>\n",
       "      <td id=\"T_c7f30_row1_col7\" class=\"data row1 col7\" >24.931000</td>\n",
       "    </tr>\n",
       "    <tr>\n",
       "      <td id=\"T_c7f30_row2_col0\" class=\"data row2 col0\" >Regresión lineal</td>\n",
       "      <td id=\"T_c7f30_row2_col1\" class=\"data row2 col1\" >573.807000</td>\n",
       "      <td id=\"T_c7f30_row2_col2\" class=\"data row2 col2\" >0.287000</td>\n",
       "      <td id=\"T_c7f30_row2_col3\" class=\"data row2 col3\" >0.089000</td>\n",
       "      <td id=\"T_c7f30_row2_col4\" class=\"data row2 col4\" >573.807000</td>\n",
       "      <td id=\"T_c7f30_row2_col5\" class=\"data row2 col5\" >0.287000</td>\n",
       "      <td id=\"T_c7f30_row2_col6\" class=\"data row2 col6\" >0.371000</td>\n",
       "      <td id=\"T_c7f30_row2_col7\" class=\"data row2 col7\" >0.000000</td>\n",
       "    </tr>\n",
       "    <tr>\n",
       "      <td id=\"T_c7f30_row3_col0\" class=\"data row3 col0\" >Regresión Lineal Lasso</td>\n",
       "      <td id=\"T_c7f30_row3_col1\" class=\"data row3 col1\" >566.276000</td>\n",
       "      <td id=\"T_c7f30_row3_col2\" class=\"data row3 col2\" >0.305000</td>\n",
       "      <td id=\"T_c7f30_row3_col3\" class=\"data row3 col3\" >0.445000</td>\n",
       "      <td id=\"T_c7f30_row3_col4\" class=\"data row3 col4\" >566.252000</td>\n",
       "      <td id=\"T_c7f30_row3_col5\" class=\"data row3 col5\" >0.305000</td>\n",
       "      <td id=\"T_c7f30_row3_col6\" class=\"data row3 col6\" >29.889000</td>\n",
       "      <td id=\"T_c7f30_row3_col7\" class=\"data row3 col7\" >0.004000</td>\n",
       "    </tr>\n",
       "    <tr>\n",
       "      <td id=\"T_c7f30_row4_col0\" class=\"data row4 col0\" >SVM</td>\n",
       "      <td id=\"T_c7f30_row4_col1\" class=\"data row4 col1\" >688.212000</td>\n",
       "      <td id=\"T_c7f30_row4_col2\" class=\"data row4 col2\" >-0.024000</td>\n",
       "      <td id=\"T_c7f30_row4_col3\" class=\"data row4 col3\" >3.101000</td>\n",
       "      <td id=\"T_c7f30_row4_col4\" class=\"data row4 col4\" >397.070000</td>\n",
       "      <td id=\"T_c7f30_row4_col5\" class=\"data row4 col5\" >0.657000</td>\n",
       "      <td id=\"T_c7f30_row4_col6\" class=\"data row4 col6\" >74.559000</td>\n",
       "      <td id=\"T_c7f30_row4_col7\" class=\"data row4 col7\" >73.323000</td>\n",
       "    </tr>\n",
       "  </tbody>\n",
       "</table>\n"
      ],
      "text/plain": [
       "<pandas.io.formats.style.Styler at 0x27cfd6ff690>"
      ]
     },
     "execution_count": 27,
     "metadata": {},
     "output_type": "execute_result"
    }
   ],
   "source": [
    "headers = [\"Name\", \"Default params RMSE\", \"Default params r2\", \"Time\", \"RMSE con HPO\", \"r2 con HPO\", \"Time\", \"Mejora (%)\"]\n",
    "\n",
    "for i in range(len(data)):\n",
    "    for j in range(len(data[i])):\n",
    "        if j >0:\n",
    "            data[i][j] = round(data[i][j], 3)\n",
    "    data[i].append(round((data[i][1] / data[i][4]-1)*100, 3))\n",
    "\n",
    "df = pd.DataFrame(data= data, columns=headers).style.hide()\n",
    "df"
   ]
  },
  {
   "cell_type": "markdown",
   "metadata": {},
   "source": [
    "En la tabla podemos visualizar el RMSE y el coeficiente de determinación R² para diferentes modelos. En la tabla podemos ver el RMSE con los parámetros por defecto para cada uno de los modelos, así como el RMSE una vez hecha la optimización de hiperparámetros. Como se ve, los modelos que mejores resultados presentan son SVM, KNN y los árboles de decisión, que tienen los valores para RMSE más bajos y para R² más altos. La regresión lineal es, por otro lado, el método que peores resultados ofrece.\n",
    "Se puede concluir que el modelo que mejor resultado arroja es SVM con los parámetros {'svm__C': 900, 'svm__epsilon': 2.25, 'svm__kernel': 'rbf'}. Serán estos los valores que utilizaremos en el modelo final, dado que presenta el coeficiente de determinación más alto y el RMSE más bajo. "
   ]
  },
  {
   "cell_type": "markdown",
   "metadata": {},
   "source": [
    "Por otro lado, si vemos los casos con los parámetros por omisión, podemos determinar que los métodos más rápidos son KNN y la regresión lineal, mientras que métodos como SVM son más lentos. Por otra parte, se ve que para encontrar los hiperparámetros óptimos, también es más lento SVM (SVR) que el resto, mientras que la optimización de hiperparámetros es muy rápida con la regresión lineal. También podemos ver que comparativamente, es bastante más lenta la optimización de hiperparámetros si utilizamos la regresión lineal Lasso en vez de la normal."
   ]
  },
  {
   "cell_type": "markdown",
   "metadata": {},
   "source": [
    "Salvo en el caso de SVM con los parámetros por defecto, en todos los casos el regresor dummy ofrece un resultado peor, por lo que los modelos son una mejor opción que usar este regresor. Por otro lado, podemos ver que todos los modelos mejoran su actuación una vez sus hiperparámetros han sido optimizados, salvo en la regresión lineal, que sus mejores hiperparámetros son los que se usan por defecto.\n",
    "Como se ve en la última columna, el modelo que mejora más con la optimización de los hiperparámetros es SVM, seguido del árbol de regresión. "
   ]
  },
  {
   "cell_type": "markdown",
   "metadata": {},
   "source": [
    "Respecto a los atributos relevantes, si observamos los coeficientes del estimador de la Regresión Lineal Lasso, aquellos que tengan valor 0, se considera que no aportan suficiente información para ser relevantes. A continuación, podemos ver el coeficiente de cada atributo y los atributos que tienen coeficiente nulo."
   ]
  },
  {
   "cell_type": "code",
   "execution_count": 28,
   "metadata": {},
   "outputs": [
    {
     "data": {
      "text/html": [
       "<div>\n",
       "<style scoped>\n",
       "    .dataframe tbody tr th:only-of-type {\n",
       "        vertical-align: middle;\n",
       "    }\n",
       "\n",
       "    .dataframe tbody tr th {\n",
       "        vertical-align: top;\n",
       "    }\n",
       "\n",
       "    .dataframe thead th {\n",
       "        text-align: right;\n",
       "    }\n",
       "</style>\n",
       "<table border=\"1\" class=\"dataframe\">\n",
       "  <thead>\n",
       "    <tr style=\"text-align: right;\">\n",
       "      <th></th>\n",
       "      <th>Atributos</th>\n",
       "      <th>Coeficientes Lasso</th>\n",
       "    </tr>\n",
       "  </thead>\n",
       "  <tbody>\n",
       "    <tr>\n",
       "      <th>0</th>\n",
       "      <td>p54.162.13</td>\n",
       "      <td>7.216149</td>\n",
       "    </tr>\n",
       "    <tr>\n",
       "      <th>1</th>\n",
       "      <td>p55.162.13</td>\n",
       "      <td>17.763774</td>\n",
       "    </tr>\n",
       "    <tr>\n",
       "      <th>2</th>\n",
       "      <td>cape.13</td>\n",
       "      <td>-26.419103</td>\n",
       "    </tr>\n",
       "    <tr>\n",
       "      <th>3</th>\n",
       "      <td>p59.162.13</td>\n",
       "      <td>244.109584</td>\n",
       "    </tr>\n",
       "    <tr>\n",
       "      <th>4</th>\n",
       "      <td>lai_lv.13</td>\n",
       "      <td>11.082537</td>\n",
       "    </tr>\n",
       "    <tr>\n",
       "      <th>5</th>\n",
       "      <td>lai_hv.13</td>\n",
       "      <td>0.000000</td>\n",
       "    </tr>\n",
       "    <tr>\n",
       "      <th>6</th>\n",
       "      <td>u10n.13</td>\n",
       "      <td>-525.715303</td>\n",
       "    </tr>\n",
       "    <tr>\n",
       "      <th>7</th>\n",
       "      <td>v10n.13</td>\n",
       "      <td>0.000000</td>\n",
       "    </tr>\n",
       "    <tr>\n",
       "      <th>8</th>\n",
       "      <td>sp.13</td>\n",
       "      <td>-56.526289</td>\n",
       "    </tr>\n",
       "    <tr>\n",
       "      <th>9</th>\n",
       "      <td>stl1.13</td>\n",
       "      <td>-0.000000</td>\n",
       "    </tr>\n",
       "    <tr>\n",
       "      <th>10</th>\n",
       "      <td>u10.13</td>\n",
       "      <td>692.847952</td>\n",
       "    </tr>\n",
       "    <tr>\n",
       "      <th>11</th>\n",
       "      <td>v10.13</td>\n",
       "      <td>-45.262272</td>\n",
       "    </tr>\n",
       "    <tr>\n",
       "      <th>12</th>\n",
       "      <td>t2m.13</td>\n",
       "      <td>-58.806246</td>\n",
       "    </tr>\n",
       "    <tr>\n",
       "      <th>13</th>\n",
       "      <td>stl2.13</td>\n",
       "      <td>-77.044866</td>\n",
       "    </tr>\n",
       "    <tr>\n",
       "      <th>14</th>\n",
       "      <td>stl3.13</td>\n",
       "      <td>-0.000000</td>\n",
       "    </tr>\n",
       "    <tr>\n",
       "      <th>15</th>\n",
       "      <td>iews.13</td>\n",
       "      <td>221.944039</td>\n",
       "    </tr>\n",
       "    <tr>\n",
       "      <th>16</th>\n",
       "      <td>inss.13</td>\n",
       "      <td>60.339155</td>\n",
       "    </tr>\n",
       "    <tr>\n",
       "      <th>17</th>\n",
       "      <td>stl4.13</td>\n",
       "      <td>9.219165</td>\n",
       "    </tr>\n",
       "    <tr>\n",
       "      <th>18</th>\n",
       "      <td>fsr.13</td>\n",
       "      <td>310.168977</td>\n",
       "    </tr>\n",
       "    <tr>\n",
       "      <th>19</th>\n",
       "      <td>flsr.13</td>\n",
       "      <td>-306.551112</td>\n",
       "    </tr>\n",
       "    <tr>\n",
       "      <th>20</th>\n",
       "      <td>u100.13</td>\n",
       "      <td>-425.533801</td>\n",
       "    </tr>\n",
       "    <tr>\n",
       "      <th>21</th>\n",
       "      <td>v100.13</td>\n",
       "      <td>72.557258</td>\n",
       "    </tr>\n",
       "  </tbody>\n",
       "</table>\n",
       "</div>"
      ],
      "text/plain": [
       "     Atributos  Coeficientes Lasso\n",
       "0   p54.162.13            7.216149\n",
       "1   p55.162.13           17.763774\n",
       "2      cape.13          -26.419103\n",
       "3   p59.162.13          244.109584\n",
       "4    lai_lv.13           11.082537\n",
       "5    lai_hv.13            0.000000\n",
       "6      u10n.13         -525.715303\n",
       "7      v10n.13            0.000000\n",
       "8        sp.13          -56.526289\n",
       "9      stl1.13           -0.000000\n",
       "10      u10.13          692.847952\n",
       "11      v10.13          -45.262272\n",
       "12      t2m.13          -58.806246\n",
       "13     stl2.13          -77.044866\n",
       "14     stl3.13           -0.000000\n",
       "15     iews.13          221.944039\n",
       "16     inss.13           60.339155\n",
       "17     stl4.13            9.219165\n",
       "18      fsr.13          310.168977\n",
       "19     flsr.13         -306.551112\n",
       "20     u100.13         -425.533801\n",
       "21     v100.13           72.557258"
      ]
     },
     "execution_count": 28,
     "metadata": {},
     "output_type": "execute_result"
    }
   ],
   "source": [
    "coeficients = grid_lasso.best_estimator_[\"lasso\"].coef_\n",
    "attributes = wind_ava.drop(['energy'], axis='columns').columns\n",
    "df = pd.DataFrame({\"Atributos\":attributes, \"Coeficientes Lasso\": coeficients})\n",
    "df"
   ]
  },
  {
   "cell_type": "code",
   "execution_count": 29,
   "metadata": {},
   "outputs": [
    {
     "data": {
      "text/html": [
       "<div>\n",
       "<style scoped>\n",
       "    .dataframe tbody tr th:only-of-type {\n",
       "        vertical-align: middle;\n",
       "    }\n",
       "\n",
       "    .dataframe tbody tr th {\n",
       "        vertical-align: top;\n",
       "    }\n",
       "\n",
       "    .dataframe thead th {\n",
       "        text-align: right;\n",
       "    }\n",
       "</style>\n",
       "<table border=\"1\" class=\"dataframe\">\n",
       "  <thead>\n",
       "    <tr style=\"text-align: right;\">\n",
       "      <th></th>\n",
       "      <th>Atributos</th>\n",
       "      <th>Coeficientes Lasso</th>\n",
       "    </tr>\n",
       "  </thead>\n",
       "  <tbody>\n",
       "    <tr>\n",
       "      <th>5</th>\n",
       "      <td>lai_hv.13</td>\n",
       "      <td>0.0</td>\n",
       "    </tr>\n",
       "    <tr>\n",
       "      <th>7</th>\n",
       "      <td>v10n.13</td>\n",
       "      <td>0.0</td>\n",
       "    </tr>\n",
       "    <tr>\n",
       "      <th>9</th>\n",
       "      <td>stl1.13</td>\n",
       "      <td>-0.0</td>\n",
       "    </tr>\n",
       "    <tr>\n",
       "      <th>14</th>\n",
       "      <td>stl3.13</td>\n",
       "      <td>-0.0</td>\n",
       "    </tr>\n",
       "  </tbody>\n",
       "</table>\n",
       "</div>"
      ],
      "text/plain": [
       "    Atributos  Coeficientes Lasso\n",
       "5   lai_hv.13                 0.0\n",
       "7     v10n.13                 0.0\n",
       "9     stl1.13                -0.0\n",
       "14    stl3.13                -0.0"
      ]
     },
     "execution_count": 29,
     "metadata": {},
     "output_type": "execute_result"
    }
   ],
   "source": [
    "df[df[\"Coeficientes Lasso\"]==0]"
   ]
  },
  {
   "cell_type": "markdown",
   "metadata": {},
   "source": [
    "Estos 4 atributos no los consideramos relevantes, es decir no aportan información sobre la variable independiente que es la energía. Estos atributos representan:\n",
    "* lai_hv: Leaf area index, high vegetation\n",
    "* v10n: Neutral wind at 10 m v-component\n",
    "* stl1: Soil temperature level 1\n",
    "* stl3: Soil temperature level 3"
   ]
  },
  {
   "cell_type": "markdown",
   "metadata": {},
   "source": [
    "## Evaluación del rendimiento y  entrenamiento y uso del modelo final"
   ]
  },
  {
   "cell_type": "markdown",
   "metadata": {},
   "source": [
    "Para el modelo final, en primer lugar haremos una estimación del comportamiento de nuestro modelo. Para eso, utilizaremos los datos del conjunto de train para entrenar y los datos del conjunto de test para evaluar. Lo haremos con el modelo que ofreció los mejores resultados en la fase anterior, es decir, SVR con \"rfb\" como kernel y unos valores de C=900 y epsilon=2.25."
   ]
  },
  {
   "cell_type": "markdown",
   "metadata": {},
   "source": [
    "Sin embargo, para hacer el entrenamiento final, utilizaremos todos los datos disponibles. Es por esto que la estimación que hacemos es pesimista, dado que luego entrenamos con más datos en realidad. "
   ]
  },
  {
   "cell_type": "code",
   "execution_count": 30,
   "metadata": {},
   "outputs": [
    {
     "name": "stdout",
     "output_type": "stream",
     "text": [
      "RMSE: 386.7961147673092\n",
      "r2: 0.6634688264358362\n"
     ]
    },
    {
     "data": {
      "text/plain": [
       "['modelo_final.pkl']"
      ]
     },
     "execution_count": 30,
     "metadata": {},
     "output_type": "execute_result"
    }
   ],
   "source": [
    "from joblib import dump, load\n",
    "from sklearn import metrics\n",
    "\n",
    "# Hacemos cross validation con todos los datos para determinar el desempeño futuro de nuestro modelo.\n",
    "pipe = Pipeline([\n",
    "    ('scaler', StandardScaler()), \n",
    "    ('svm', SVR(kernel=\"rbf\", C=900, epsilon=2.25))]\n",
    ")\n",
    "X = wind_ava.drop(['energy'], axis='columns')\n",
    "y = wind_ava[['energy']]\n",
    "\n",
    "pipe.fit(X_train, np.ravel(y_train))\n",
    "predictions = pipe.predict(X_test)\n",
    "rmse = root_mean_squared_error(y_test, predictions)\n",
    "r2 = r2_score(y_test, predictions)\n",
    "print(f\"RMSE: {rmse}\")\n",
    "print(f\"r2: {r2}\")\n",
    "\n",
    "# Guardamos el modelo final\n",
    "final_pipe = Pipeline([\n",
    "    ('scaler', StandardScaler()), \n",
    "    ('svm', SVR(kernel=\"rbf\", C=900, epsilon=2.25))]\n",
    ")\n",
    "\n",
    "final_pipe.fit(X, np.ravel(y))\n",
    "dump(final_pipe, 'modelo_final.pkl') "
   ]
  },
  {
   "cell_type": "markdown",
   "metadata": {},
   "source": [
    "Una vez que hemos exportado nuestro modelo, podemos importarlo y utilizarlo para hacer predicciones en cualquier otro programa. Por ejemplo, podemos utilizar el modelo final para hacer las predicciones para la competición."
   ]
  },
  {
   "cell_type": "code",
   "execution_count": 31,
   "metadata": {},
   "outputs": [],
   "source": [
    "# Ahora podemos cargar nuestro modelo y hacer las predicciones para la competición\n",
    "fm = load('modelo_final.pkl')\n",
    "\n",
    "wind_comp = pd.read_csv('dataset/wind_comp.csv.gz', compression=\"gzip\")\n",
    "wind_comp[\"datetime\"] = pd.to_datetime(wind_comp[\"datetime\"])\n",
    "wind_comp.set_index(\"datetime\", inplace=True)\n",
    "for c in wind_comp.columns:\n",
    "  if not c.endswith(\".13\") and c != \"energy\":\n",
    "    wind_comp.drop(c, axis=1, inplace=True)\n",
    "\n",
    "predict = fm.predict(wind_comp) \n",
    "wind_comp.insert(0,\"predictions\", predict)\n",
    "wind_comp[\"predictions\"].to_csv('predicciones.csv')"
   ]
  },
  {
   "cell_type": "markdown",
   "metadata": {},
   "source": [
    "## Uso de ChatGPT"
   ]
  },
  {
   "cell_type": "markdown",
   "metadata": {},
   "source": [
    "Para la realización de esta práctica no hemos utilizado la herramienta de IA generativa ChatGPT. Toda la información y ejemplos de códiog ha sido obtenida del temario de la asignatura, la documentación de las diferentes librerias utilizadas y foros de dudas ampliamente conocidos como StackOverflow. En especial, nos gustaría remarcar la documentación de scikit-learn, librería en la que se basa el grueso de la práctica, que contiene de manera detallada el funcionamiento de los diferentes parámetros de los clasificadores y regresores, así como pequeños ejemplos de código que facilitan su uso. Foros como StackOverflow han sido especialmente útiles para trabajar con librerías cuyo uso puede ser complejo pero a su vez están muy extendidas como pandas o numpy."
   ]
  },
  {
   "cell_type": "code",
   "execution_count": null,
   "metadata": {},
   "outputs": [],
   "source": []
  }
 ],
 "metadata": {
  "colab": {
   "provenance": []
  },
  "kernelspec": {
   "display_name": "Python 3 (ipykernel)",
   "language": "python",
   "name": "python3"
  },
  "language_info": {
   "codemirror_mode": {
    "name": "ipython",
    "version": 3
   },
   "file_extension": ".py",
   "mimetype": "text/x-python",
   "name": "python",
   "nbconvert_exporter": "python",
   "pygments_lexer": "ipython3",
   "version": "3.11.9"
  }
 },
 "nbformat": 4,
 "nbformat_minor": 4
}
