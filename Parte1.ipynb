{
 "cells": [
  {
   "cell_type": "markdown",
   "metadata": {},
   "source": [
    "# Practica 1: Predicción de la producción de energía eólica con SCIKIT-LEARN"
   ]
  },
  {
   "cell_type": "markdown",
   "metadata": {
    "jp-MarkdownHeadingCollapsed": true
   },
   "source": [
    "## Análisis exploratorio de datos (EDA)"
   ]
  },
  {
   "cell_type": "markdown",
   "metadata": {},
   "source": [
    "Cargamos el dataset"
   ]
  },
  {
   "cell_type": "code",
   "execution_count": 17,
   "metadata": {
    "id": "3IuvYn6p5NbO"
   },
   "outputs": [],
   "source": [
    "import pandas as pd"
   ]
  },
  {
   "cell_type": "code",
   "execution_count": 18,
   "metadata": {
    "id": "E_uyPvpc52mX"
   },
   "outputs": [],
   "source": [
    "wind_ava = pd.read_csv('dataset/wind_ava.csv.gz', compression=\"gzip\")"
   ]
  },
  {
   "cell_type": "markdown",
   "metadata": {},
   "source": [
    "Seleccionamos la columna \"datetime\" como indice y descartamos todas las columnas que no sean \"energy\" (nuestra columna de predicción) y las variables de la localización 13 Sotavento."
   ]
  },
  {
   "cell_type": "code",
   "execution_count": 19,
   "metadata": {
    "id": "_QlM-6Jv6XTM"
   },
   "outputs": [],
   "source": [
    "wind_ava.set_index(\"datetime\", inplace=True)\n",
    "for c in wind_ava.columns:\n",
    "  if not c.endswith(\".13\") and c != \"energy\":\n",
    "    wind_ava.drop(c, axis=1, inplace=True)\n"
   ]
  },
  {
   "cell_type": "markdown",
   "metadata": {},
   "source": [
    "A continuación, mostramos los datos estadísticos de las variables restantes. Se puede observar que existen 4748 instancias y 22 características. Todas las variables son numéricas. Además podemos observar que todas las desviaciones típicas (std) son distintas de 0, por lo que ninguna columna es constante. El objetivo es predecir la cantidad de energía generada por lo que este es un problema de regresión."
   ]
  },
  {
   "cell_type": "code",
   "execution_count": 20,
   "metadata": {
    "colab": {
     "base_uri": "https://localhost:8080/",
     "height": 349
    },
    "id": "-gnqF7jE6B3j",
    "outputId": "8b6fd76b-dd6a-4160-a311-64583a03cb77"
   },
   "outputs": [
    {
     "data": {
      "text/html": [
       "<div>\n",
       "<style scoped>\n",
       "    .dataframe tbody tr th:only-of-type {\n",
       "        vertical-align: middle;\n",
       "    }\n",
       "\n",
       "    .dataframe tbody tr th {\n",
       "        vertical-align: top;\n",
       "    }\n",
       "\n",
       "    .dataframe thead th {\n",
       "        text-align: right;\n",
       "    }\n",
       "</style>\n",
       "<table border=\"1\" class=\"dataframe\">\n",
       "  <thead>\n",
       "    <tr style=\"text-align: right;\">\n",
       "      <th></th>\n",
       "      <th>energy</th>\n",
       "      <th>p54.162.13</th>\n",
       "      <th>p55.162.13</th>\n",
       "      <th>cape.13</th>\n",
       "      <th>p59.162.13</th>\n",
       "      <th>lai_lv.13</th>\n",
       "      <th>lai_hv.13</th>\n",
       "      <th>u10n.13</th>\n",
       "      <th>v10n.13</th>\n",
       "      <th>sp.13</th>\n",
       "      <th>...</th>\n",
       "      <th>t2m.13</th>\n",
       "      <th>stl2.13</th>\n",
       "      <th>stl3.13</th>\n",
       "      <th>iews.13</th>\n",
       "      <th>inss.13</th>\n",
       "      <th>stl4.13</th>\n",
       "      <th>fsr.13</th>\n",
       "      <th>flsr.13</th>\n",
       "      <th>u100.13</th>\n",
       "      <th>v100.13</th>\n",
       "    </tr>\n",
       "  </thead>\n",
       "  <tbody>\n",
       "    <tr>\n",
       "      <th>count</th>\n",
       "      <td>4748.000000</td>\n",
       "      <td>4.748000e+03</td>\n",
       "      <td>4748.000000</td>\n",
       "      <td>4748.000000</td>\n",
       "      <td>4.748000e+03</td>\n",
       "      <td>4748.000000</td>\n",
       "      <td>4748.000000</td>\n",
       "      <td>4748.000000</td>\n",
       "      <td>4748.000000</td>\n",
       "      <td>4748.000000</td>\n",
       "      <td>...</td>\n",
       "      <td>4748.000000</td>\n",
       "      <td>4748.000000</td>\n",
       "      <td>4748.000000</td>\n",
       "      <td>4748.000000</td>\n",
       "      <td>4748.000000</td>\n",
       "      <td>4748.000000</td>\n",
       "      <td>4748.000000</td>\n",
       "      <td>4748.000000</td>\n",
       "      <td>4748.000000</td>\n",
       "      <td>4748.000000</td>\n",
       "    </tr>\n",
       "    <tr>\n",
       "      <th>mean</th>\n",
       "      <td>693.126247</td>\n",
       "      <td>2.489477e+06</td>\n",
       "      <td>16.008810</td>\n",
       "      <td>31.166541</td>\n",
       "      <td>1.706692e+06</td>\n",
       "      <td>2.815222</td>\n",
       "      <td>2.576284</td>\n",
       "      <td>0.386215</td>\n",
       "      <td>0.120528</td>\n",
       "      <td>97820.301287</td>\n",
       "      <td>...</td>\n",
       "      <td>285.689253</td>\n",
       "      <td>286.663838</td>\n",
       "      <td>286.665988</td>\n",
       "      <td>0.074229</td>\n",
       "      <td>0.049971</td>\n",
       "      <td>286.668152</td>\n",
       "      <td>0.413677</td>\n",
       "      <td>-5.908467</td>\n",
       "      <td>0.447175</td>\n",
       "      <td>0.328204</td>\n",
       "    </tr>\n",
       "    <tr>\n",
       "      <th>std</th>\n",
       "      <td>665.531609</td>\n",
       "      <td>4.482599e+04</td>\n",
       "      <td>6.552216</td>\n",
       "      <td>121.758977</td>\n",
       "      <td>1.466953e+06</td>\n",
       "      <td>0.397377</td>\n",
       "      <td>0.116434</td>\n",
       "      <td>3.100583</td>\n",
       "      <td>3.016766</td>\n",
       "      <td>713.689654</td>\n",
       "      <td>...</td>\n",
       "      <td>6.163483</td>\n",
       "      <td>5.547947</td>\n",
       "      <td>4.582827</td>\n",
       "      <td>0.367013</td>\n",
       "      <td>0.379014</td>\n",
       "      <td>3.552873</td>\n",
       "      <td>0.007602</td>\n",
       "      <td>0.094359</td>\n",
       "      <td>4.841730</td>\n",
       "      <td>4.667552</td>\n",
       "    </tr>\n",
       "    <tr>\n",
       "      <th>min</th>\n",
       "      <td>0.010000</td>\n",
       "      <td>2.358748e+06</td>\n",
       "      <td>1.650268</td>\n",
       "      <td>0.000000</td>\n",
       "      <td>5.610341e+04</td>\n",
       "      <td>2.323973</td>\n",
       "      <td>2.425866</td>\n",
       "      <td>-8.619823</td>\n",
       "      <td>-8.867441</td>\n",
       "      <td>93770.364813</td>\n",
       "      <td>...</td>\n",
       "      <td>268.970603</td>\n",
       "      <td>275.461648</td>\n",
       "      <td>278.389271</td>\n",
       "      <td>-1.714897</td>\n",
       "      <td>-1.438829</td>\n",
       "      <td>280.875389</td>\n",
       "      <td>0.364805</td>\n",
       "      <td>-6.130465</td>\n",
       "      <td>-11.879053</td>\n",
       "      <td>-13.043453</td>\n",
       "    </tr>\n",
       "    <tr>\n",
       "      <th>25%</th>\n",
       "      <td>144.170000</td>\n",
       "      <td>2.458543e+06</td>\n",
       "      <td>11.203264</td>\n",
       "      <td>0.000000</td>\n",
       "      <td>6.563209e+05</td>\n",
       "      <td>2.425944</td>\n",
       "      <td>2.461630</td>\n",
       "      <td>-1.950008</td>\n",
       "      <td>-2.050920</td>\n",
       "      <td>97459.369264</td>\n",
       "      <td>...</td>\n",
       "      <td>281.458939</td>\n",
       "      <td>282.287394</td>\n",
       "      <td>282.689506</td>\n",
       "      <td>-0.126880</td>\n",
       "      <td>-0.148495</td>\n",
       "      <td>283.405549</td>\n",
       "      <td>0.410027</td>\n",
       "      <td>-5.977599</td>\n",
       "      <td>-3.836853</td>\n",
       "      <td>-3.256194</td>\n",
       "    </tr>\n",
       "    <tr>\n",
       "      <th>50%</th>\n",
       "      <td>465.305000</td>\n",
       "      <td>2.490478e+06</td>\n",
       "      <td>15.543441</td>\n",
       "      <td>1.004148</td>\n",
       "      <td>1.239176e+06</td>\n",
       "      <td>2.758857</td>\n",
       "      <td>2.560520</td>\n",
       "      <td>0.048820</td>\n",
       "      <td>-0.191853</td>\n",
       "      <td>97861.147677</td>\n",
       "      <td>...</td>\n",
       "      <td>285.395453</td>\n",
       "      <td>286.191880</td>\n",
       "      <td>286.204914</td>\n",
       "      <td>0.010551</td>\n",
       "      <td>-0.003569</td>\n",
       "      <td>286.591659</td>\n",
       "      <td>0.410917</td>\n",
       "      <td>-5.947220</td>\n",
       "      <td>0.282399</td>\n",
       "      <td>-0.389416</td>\n",
       "    </tr>\n",
       "    <tr>\n",
       "      <th>75%</th>\n",
       "      <td>1089.375000</td>\n",
       "      <td>2.525134e+06</td>\n",
       "      <td>20.214077</td>\n",
       "      <td>14.143328</td>\n",
       "      <td>2.296548e+06</td>\n",
       "      <td>3.205385</td>\n",
       "      <td>2.688526</td>\n",
       "      <td>2.641779</td>\n",
       "      <td>2.016289</td>\n",
       "      <td>98251.478418</td>\n",
       "      <td>...</td>\n",
       "      <td>289.740438</td>\n",
       "      <td>291.345311</td>\n",
       "      <td>290.989045</td>\n",
       "      <td>0.232378</td>\n",
       "      <td>0.172325</td>\n",
       "      <td>290.024705</td>\n",
       "      <td>0.417070</td>\n",
       "      <td>-5.858848</td>\n",
       "      <td>4.187953</td>\n",
       "      <td>3.614395</td>\n",
       "    </tr>\n",
       "    <tr>\n",
       "      <th>max</th>\n",
       "      <td>2792.550000</td>\n",
       "      <td>2.580387e+06</td>\n",
       "      <td>39.230807</td>\n",
       "      <td>2311.662152</td>\n",
       "      <td>1.110694e+07</td>\n",
       "      <td>3.450745</td>\n",
       "      <td>2.762992</td>\n",
       "      <td>12.974802</td>\n",
       "      <td>11.699814</td>\n",
       "      <td>99917.733093</td>\n",
       "      <td>...</td>\n",
       "      <td>305.000640</td>\n",
       "      <td>299.556292</td>\n",
       "      <td>295.639998</td>\n",
       "      <td>2.842552</td>\n",
       "      <td>2.366522</td>\n",
       "      <td>292.808658</td>\n",
       "      <td>0.428914</td>\n",
       "      <td>-5.618172</td>\n",
       "      <td>18.964137</td>\n",
       "      <td>16.913033</td>\n",
       "    </tr>\n",
       "  </tbody>\n",
       "</table>\n",
       "<p>8 rows × 23 columns</p>\n",
       "</div>"
      ],
      "text/plain": [
       "            energy    p54.162.13   p55.162.13      cape.13    p59.162.13  \\\n",
       "count  4748.000000  4.748000e+03  4748.000000  4748.000000  4.748000e+03   \n",
       "mean    693.126247  2.489477e+06    16.008810    31.166541  1.706692e+06   \n",
       "std     665.531609  4.482599e+04     6.552216   121.758977  1.466953e+06   \n",
       "min       0.010000  2.358748e+06     1.650268     0.000000  5.610341e+04   \n",
       "25%     144.170000  2.458543e+06    11.203264     0.000000  6.563209e+05   \n",
       "50%     465.305000  2.490478e+06    15.543441     1.004148  1.239176e+06   \n",
       "75%    1089.375000  2.525134e+06    20.214077    14.143328  2.296548e+06   \n",
       "max    2792.550000  2.580387e+06    39.230807  2311.662152  1.110694e+07   \n",
       "\n",
       "         lai_lv.13    lai_hv.13      u10n.13      v10n.13         sp.13  ...  \\\n",
       "count  4748.000000  4748.000000  4748.000000  4748.000000   4748.000000  ...   \n",
       "mean      2.815222     2.576284     0.386215     0.120528  97820.301287  ...   \n",
       "std       0.397377     0.116434     3.100583     3.016766    713.689654  ...   \n",
       "min       2.323973     2.425866    -8.619823    -8.867441  93770.364813  ...   \n",
       "25%       2.425944     2.461630    -1.950008    -2.050920  97459.369264  ...   \n",
       "50%       2.758857     2.560520     0.048820    -0.191853  97861.147677  ...   \n",
       "75%       3.205385     2.688526     2.641779     2.016289  98251.478418  ...   \n",
       "max       3.450745     2.762992    12.974802    11.699814  99917.733093  ...   \n",
       "\n",
       "            t2m.13      stl2.13      stl3.13      iews.13      inss.13  \\\n",
       "count  4748.000000  4748.000000  4748.000000  4748.000000  4748.000000   \n",
       "mean    285.689253   286.663838   286.665988     0.074229     0.049971   \n",
       "std       6.163483     5.547947     4.582827     0.367013     0.379014   \n",
       "min     268.970603   275.461648   278.389271    -1.714897    -1.438829   \n",
       "25%     281.458939   282.287394   282.689506    -0.126880    -0.148495   \n",
       "50%     285.395453   286.191880   286.204914     0.010551    -0.003569   \n",
       "75%     289.740438   291.345311   290.989045     0.232378     0.172325   \n",
       "max     305.000640   299.556292   295.639998     2.842552     2.366522   \n",
       "\n",
       "           stl4.13       fsr.13      flsr.13      u100.13      v100.13  \n",
       "count  4748.000000  4748.000000  4748.000000  4748.000000  4748.000000  \n",
       "mean    286.668152     0.413677    -5.908467     0.447175     0.328204  \n",
       "std       3.552873     0.007602     0.094359     4.841730     4.667552  \n",
       "min     280.875389     0.364805    -6.130465   -11.879053   -13.043453  \n",
       "25%     283.405549     0.410027    -5.977599    -3.836853    -3.256194  \n",
       "50%     286.591659     0.410917    -5.947220     0.282399    -0.389416  \n",
       "75%     290.024705     0.417070    -5.858848     4.187953     3.614395  \n",
       "max     292.808658     0.428914    -5.618172    18.964137    16.913033  \n",
       "\n",
       "[8 rows x 23 columns]"
      ]
     },
     "execution_count": 20,
     "metadata": {},
     "output_type": "execute_result"
    }
   ],
   "source": [
    "wind_ava.describe()"
   ]
  },
  {
   "cell_type": "markdown",
   "metadata": {},
   "source": [
    "Calculamos los missing values, tanto NULL como NaN, de cada columna y no existe ninguno de estos datos en todo el dataset. "
   ]
  },
  {
   "cell_type": "code",
   "execution_count": 21,
   "metadata": {
    "colab": {
     "base_uri": "https://localhost:8080/"
    },
    "id": "HlSa7KGVp-Zf",
    "outputId": "839309f7-1194-4418-8500-d04e7264f79d"
   },
   "outputs": [
    {
     "data": {
      "text/plain": [
       "energy        0\n",
       "p54.162.13    0\n",
       "p55.162.13    0\n",
       "cape.13       0\n",
       "p59.162.13    0\n",
       "lai_lv.13     0\n",
       "lai_hv.13     0\n",
       "u10n.13       0\n",
       "v10n.13       0\n",
       "sp.13         0\n",
       "stl1.13       0\n",
       "u10.13        0\n",
       "v10.13        0\n",
       "t2m.13        0\n",
       "stl2.13       0\n",
       "stl3.13       0\n",
       "iews.13       0\n",
       "inss.13       0\n",
       "stl4.13       0\n",
       "fsr.13        0\n",
       "flsr.13       0\n",
       "u100.13       0\n",
       "v100.13       0\n",
       "dtype: int64"
      ]
     },
     "execution_count": 21,
     "metadata": {},
     "output_type": "execute_result"
    }
   ],
   "source": [
    "wind_ava.isna().sum()"
   ]
  },
  {
   "cell_type": "code",
   "execution_count": 22,
   "metadata": {
    "colab": {
     "base_uri": "https://localhost:8080/"
    },
    "id": "MbQ7NHOipyrP",
    "outputId": "aa176b12-952b-4933-ef31-9ad31305527a"
   },
   "outputs": [
    {
     "data": {
      "text/plain": [
       "energy        0\n",
       "p54.162.13    0\n",
       "p55.162.13    0\n",
       "cape.13       0\n",
       "p59.162.13    0\n",
       "lai_lv.13     0\n",
       "lai_hv.13     0\n",
       "u10n.13       0\n",
       "v10n.13       0\n",
       "sp.13         0\n",
       "stl1.13       0\n",
       "u10.13        0\n",
       "v10.13        0\n",
       "t2m.13        0\n",
       "stl2.13       0\n",
       "stl3.13       0\n",
       "iews.13       0\n",
       "inss.13       0\n",
       "stl4.13       0\n",
       "fsr.13        0\n",
       "flsr.13       0\n",
       "u100.13       0\n",
       "v100.13       0\n",
       "dtype: int64"
      ]
     },
     "execution_count": 22,
     "metadata": {},
     "output_type": "execute_result"
    }
   ],
   "source": [
    "wind_ava.isnull().sum()"
   ]
  },
  {
   "cell_type": "markdown",
   "metadata": {},
   "source": [
    "## Selección de Modelo y Optimización de Hiperparámetros"
   ]
  },
  {
   "cell_type": "code",
   "execution_count": null,
   "metadata": {},
   "outputs": [],
   "source": []
  }
 ],
 "metadata": {
  "colab": {
   "provenance": []
  },
  "kernelspec": {
   "display_name": "Python 3 (ipykernel)",
   "language": "python",
   "name": "python3"
  },
  "language_info": {
   "codemirror_mode": {
    "name": "ipython",
    "version": 3
   },
   "file_extension": ".py",
   "mimetype": "text/x-python",
   "name": "python",
   "nbconvert_exporter": "python",
   "pygments_lexer": "ipython3",
   "version": "3.11.8"
  }
 },
 "nbformat": 4,
 "nbformat_minor": 4
}
